{
 "cells": [
  {
   "cell_type": "code",
   "execution_count": null,
   "metadata": {},
   "outputs": [],
   "source": [
    "# Find the defective rule from the function\n",
    "def test_apply_fesibility_rules(Wi,Li,Si,Sj,dj,di,wi):\n",
    "    if f_rule_1(Si,di,dj):\n",
    "        if f_rule_2(Wi,di,dj):\n",
    "            if f_rule_3(Wi, Si):\n",
    "                if f_rule_4(Wi,Li,Si,Sj):\n",
    "                    if f_rule_5(Wi,wi,di,dj):\n",
    "                        if f_rule_6(Si,di,dj):\n",
    "                            if f_rule_7(Si,Sj):\n",
    "                                if f_rule_8(Si,Li):\n",
    "                                    if f_rule_9(Wi,Li,Si,Sj,dj,di):\n",
    "                                        if f_rule_10(Si, di, dj):\n",
    "                                            return True\n",
    "                                        else:\n",
    "                                            return print('ERROR RULE 10')\n",
    "                                    else:\n",
    "                                        return print('ERROR RULE 9')\n",
    "                                else:\n",
    "                                    return print('ERROR RULE 8')\n",
    "                            else:\n",
    "                                return print('ERROR RULE 7')\n",
    "                        else:\n",
    "                            return print('ERROR RULE 6')\n",
    "                    else:\n",
    "                        return print('ERROR RULE 5')\n",
    "                else:\n",
    "                    return print('ERROR RULE 4')\n",
    "            else:\n",
    "                return print('ERROR RULE 3')\n",
    "        else:\n",
    "            return print('ERROR RULE 2')\n",
    "    else:\n",
    "        return print('ERROR RULE 1')"
   ]
  },
  {
   "cell_type": "code",
   "execution_count": null,
   "metadata": {},
   "outputs": [],
   "source": [
    "def exeption_test(XD,i):\n",
    "    Si_prime = get_Si_prime(XD[i][2],XD[i][5],XD[i][4])[0]\n",
    "    Sj_prime = get_Sj_prime(XD[i][2],XD[i][5],XD[i][4],Si_prime)\n",
    "    Li_prime = get_Li_prime(XD[i][1],XD[i][5],XD[i][4],Si_prime)           \n",
    "    Wi_prime = get_Wi_prime(player, XD[i][6],Li_prime , Si_prime, Sj_prime)\n",
    "    dj_prime = get_dj(player, Si_prime, Li_prime,Wi_prime,Li_prime,Sj_prime)\n",
    "    print('ERROR: State action pair {} is leading to the state ({},{},{},{},{}), which is not in the set X_unique.'.format(XD[i],Wi_prime,Li_prime,Si_prime, Sj_prime ,dj_prime))\n",
    "    print('If the state is possible, check why the apply_fesibility_rules(Wi,Li,Si,Sj,dj,di,wi) is returning False')\n",
    "# put the error finder function here test_apply_fesibility_rules(Wi,Li,Si,Sj,dj,di,wi)"
   ]
  },
  {
   "cell_type": "code",
   "execution_count": null,
   "metadata": {},
   "outputs": [],
   "source": [
    "# start_time = datetime.now()\n",
    "\n",
    "# XD = get_feasible_spaces()\n",
    "# X = XD[:,:5] # Separate only the feasible states for the player\n",
    "# D = XD[:,5:] # Separate only the feasible actions for the player\n",
    "\n",
    "# end_time = datetime.now()\n",
    "# print('Duration: {}'.format(end_time - start_time))"
   ]
  },
  {
   "cell_type": "code",
   "execution_count": null,
   "metadata": {},
   "outputs": [],
   "source": [
    "\n",
    "# X_unique ,D_unique = get_uniques(X,D)\n",
    "# D_indices , X_indices = extracting_indexes(X_unique,D_unique,X,D)\n",
    "\n",
    "\n",
    "\n",
    "# print('There are n = {} distict spaces-action pairs where players can be. Where m = {} are unique spaces'.format(len(X) , len(X_unique)))\n",
    "# print('Without the dimension reductions, we would be working with n = {} and m = {}'.format((W_bar*L_bar*len(S_space)*len(S_space)*len(d_space)*W_bar*len(d_space)),(W_bar*L_bar*len(S_space)) ))\n",
    "\n",
    "\n"
   ]
  },
  {
   "cell_type": "code",
   "execution_count": null,
   "metadata": {},
   "outputs": [],
   "source": [
    "# class theta(player = 'payer', matrix = False,b = 3 ,a = 6,c_b = 1 ,f = 6 ,alpha = 0.1,beta = 0.65 ,ir = 0.3 ,delta = 0.25 ,gamma = 0.99 ,eta = 0.9,y0 = 0,yl =,R = 1,r = 1,P = 1,p = 1,W_bar = 20,L_bar = 3):\n",
    "#     def __init__(self):\n",
    "#     \"\"\"\n",
    "#     Theta is an instance with all constant parameters.\n",
    "\n",
    "#     \"\"\"\n",
    "#     self.player = player\n",
    "#     self.matrix = matrix\n",
    "#     self.b = b # Bribe\n",
    "#     self.a = a # Advantage From Corruption\n",
    "#     self.c_b = c_b # Cost of Corrutpion for the receiver\n",
    "#     self.f = f # Fine for corruption\n",
    "#     self.alpha = alpha  # Probability of detection from authorities\n",
    "#     self.beta = beta # Probability of judicial conviction\n",
    "#     self.ir = ir # Interest Rates\n",
    "#     self.delta = delta # Liability Depreciation\n",
    "#     self.gamma = gamma # Time discount\n",
    "#     self.eta = eta # Risk Aversion\n",
    "#     self.y0 = y0 # Non-financial income\n",
    "#     self.yl = yl # living wage\n",
    "#     self.R = R # Fine reduction for Unilateral reporting\n",
    "#     self.r = r # Fine reduction for simultaneous reporting\n",
    "#     self.P = P # Fine reduction for Unilateral pleing guilty\n",
    "#     self.p = p # Fine reduction for simultaneous pleing guilty\n",
    "#     #increasing problems dimension\n",
    "#     self.W_bar = W_bar\n",
    "#     self.L_bar = L_bar\n",
    "#     self.W_space = np.arange(0,self.W_bar+1)\n",
    "#     self.L_space = np.arange(0,self.L_bar+1)\n",
    "#     self.w_space =  np.arange(0,self.W_bar+1)"
   ]
  },
  {
   "cell_type": "code",
   "execution_count": null,
   "metadata": {},
   "outputs": [],
   "source": [
    "# ir = 0.1\n",
    "# wi = 0\n",
    "# Wi = 10 - wi\n",
    "# #print(get_ci(Wi,wi,get_phi_i(player, 1, 1)))\n",
    "# print(get_Wi_prime('payer', wi, 1,1 ,1))\n"
   ]
  },
  {
   "cell_type": "code",
   "execution_count": null,
   "metadata": {},
   "outputs": [],
   "source": []
  },
  {
   "cell_type": "code",
   "execution_count": null,
   "metadata": {},
   "outputs": [],
   "source": [
    "# start_time = datetime.now()\n",
    "\n",
    "# Omega = populate_Omega(XD, X_unique)\n",
    "\n",
    "# end_time = datetime.now()\n",
    "# print('Duration: {}'.format(end_time - start_time))"
   ]
  },
  {
   "cell_type": "code",
   "execution_count": null,
   "metadata": {},
   "outputs": [],
   "source": [
    "\n",
    "# test = []\n",
    "# fails = []\n",
    "# for i in range(len(Omega)):\n",
    "#     test.append(Omega[i].sum())\n",
    "#     if round(Omega[i].sum(),4) != 1:\n",
    "#         fails.append(i)\n",
    "# if len(fails) == 0:\n",
    "#     print('sucess: Omega shape (n X  m) ->', Omega.shape)\n",
    "# else:\n",
    "#     print('failed at the dimention(s) ->',fails)\n",
    "#     print(len(fails))"
   ]
  },
  {
   "cell_type": "code",
   "execution_count": null,
   "metadata": {},
   "outputs": [],
   "source": [
    "# i =402\n",
    "# #7462\n",
    "\n",
    "# matrices_1.XD[i]\n",
    "# Si_prime = get_Si_prime(matrices_1.XD[i][2],matrices_1.XD[i][5],matrices_1.XD[i][4])\n",
    "# Sj_prime = get_Sj_prime(matrices_1.XD[i][2],matrices_1.XD[i][5],matrices_1.XD[i][4],2)\n",
    "# Li_prime = get_Li_prime(matrices_1.XD[i][1],matrices_1.XD[i][5],matrices_1.XD[i][4],Si_prime)           \n",
    "# Wi_prime = get_Wi_prime(player, matrices_1.XD[i][6],Li_prime , Si_prime, Sj_prime)\n",
    "# #dj_prime = get_di(results.sigma, matrices_1.X_unique, [Wi_prime,Li_prime,Si_prime,Sj_prime] , matrices_1.D_unique)\n",
    "# print('ERROR: State action pair {} is leading to the state ({},{},{},{},dj), which is not in the set X_unique.'.format(matrices_1.XD[i],Wi_prime,Li_prime,Si_prime, Sj_prime ))\n",
    "# print('If the state is possible, check why the apply_fesibility_rules(Wi,Li,Si,Sj,dj,di,wi) is returning False')\n"
   ]
  },
  {
   "cell_type": "code",
   "execution_count": null,
   "metadata": {},
   "outputs": [],
   "source": [
    "# #creat the QE instance for solution \n",
    "# ddp =qe.markov.DiscreteDP(Ri, Omega, gamma, X_indices, D_indices)"
   ]
  },
  {
   "cell_type": "code",
   "execution_count": null,
   "metadata": {},
   "outputs": [],
   "source": []
  },
  {
   "cell_type": "code",
   "execution_count": null,
   "metadata": {},
   "outputs": [],
   "source": [
    "# results = ddp.solve(method='value_iteration')"
   ]
  },
  {
   "cell_type": "code",
   "execution_count": null,
   "metadata": {},
   "outputs": [],
   "source": []
  },
  {
   "cell_type": "code",
   "execution_count": null,
   "metadata": {},
   "outputs": [],
   "source": []
  },
  {
   "cell_type": "code",
   "execution_count": null,
   "metadata": {},
   "outputs": [],
   "source": []
  }
 ],
 "metadata": {
  "kernelspec": {
   "display_name": "Python 3",
   "language": "python",
   "name": "python3"
  },
  "language_info": {
   "codemirror_mode": {
    "name": "ipython",
    "version": 3
   },
   "file_extension": ".py",
   "mimetype": "text/x-python",
   "name": "python",
   "nbconvert_exporter": "python",
   "pygments_lexer": "ipython3",
   "version": "3.7.3"
  }
 },
 "nbformat": 4,
 "nbformat_minor": 4
}
