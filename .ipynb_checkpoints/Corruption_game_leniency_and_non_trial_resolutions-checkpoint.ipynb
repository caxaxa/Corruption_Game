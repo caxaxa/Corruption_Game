{
 "cells": [
  {
   "cell_type": "markdown",
   "metadata": {
    "id": "1U1Qz9HaGClN"
   },
   "source": [
    "# Dynamic Programming Approach to Leniency Policies in Collusive Corruption\n",
    "\n",
    "This Notebook builds an economic model of non-trial resolutions for collusive corruption. It uses discrete time and discrete state dynamic programming to solve the agents' decision problem.\n",
    "\n",
    "## Overview\n",
    "\n",
    "    1) Settle the Basic Model, the relevant constants and variables; \n",
    "\n",
    "    2) Build the Transition functions;\n",
    "\n",
    "    3) Build the Reward Function;\n",
    "\n",
    "    4) Find the optimal policy from **one player** given a greedy policy from the other player; and\n",
    "\n",
    "    5) Use optimal policicies found and iterate until convergence.\n"
   ]
  },
  {
   "cell_type": "code",
   "execution_count": 1,
   "metadata": {
    "colab": {
     "base_uri": "https://localhost:8080/"
    },
    "id": "Ps8l_DdTGClR",
    "outputId": "2a212c49-f2d2-4816-a782-5251b0e1980b"
   },
   "outputs": [],
   "source": [
    "# # # check matplotlib version.... ax.bar_label is available only in the 3.5+\n",
    "# !pip install quantecon\n",
    "# !pip install matplotlib -U"
   ]
  },
  {
   "cell_type": "code",
   "execution_count": 2,
   "metadata": {
    "colab": {
     "base_uri": "https://localhost:8080/"
    },
    "id": "o52bF4AAGClS",
    "outputId": "99c867a2-3939-4d0a-941a-f3dbc5b29a20"
   },
   "outputs": [
    {
     "name": "stderr",
     "output_type": "stream",
     "text": [
      "\n",
      "Bad key text.latex.preview in file c:\\users\\lucas\\appdata\\local\\programs\\python\\python37\\lib\\site-packages\\matplotlib\\mpl-data\\stylelib\\_classic_test.mplstyle, line 123 ('text.latex.preview : False')\n",
      "You probably need to get an updated matplotlibrc file from\n",
      "https://github.com/matplotlib/matplotlib/blob/v3.5.1/matplotlibrc.template\n",
      "or from the matplotlib source distribution\n",
      "\n",
      "Bad key mathtext.fallback_to_cm in file c:\\users\\lucas\\appdata\\local\\programs\\python\\python37\\lib\\site-packages\\matplotlib\\mpl-data\\stylelib\\_classic_test.mplstyle, line 155 ('mathtext.fallback_to_cm : True  # When True, use symbols from the Computer Modern')\n",
      "You probably need to get an updated matplotlibrc file from\n",
      "https://github.com/matplotlib/matplotlib/blob/v3.5.1/matplotlibrc.template\n",
      "or from the matplotlib source distribution\n",
      "\n",
      "Bad key savefig.jpeg_quality in file c:\\users\\lucas\\appdata\\local\\programs\\python\\python37\\lib\\site-packages\\matplotlib\\mpl-data\\stylelib\\_classic_test.mplstyle, line 418 ('savefig.jpeg_quality: 95       # when a jpeg is saved, the default quality parameter.')\n",
      "You probably need to get an updated matplotlibrc file from\n",
      "https://github.com/matplotlib/matplotlib/blob/v3.5.1/matplotlibrc.template\n",
      "or from the matplotlib source distribution\n",
      "\n",
      "Bad key keymap.all_axes in file c:\\users\\lucas\\appdata\\local\\programs\\python\\python37\\lib\\site-packages\\matplotlib\\mpl-data\\stylelib\\_classic_test.mplstyle, line 466 ('keymap.all_axes : a                 # enable all axes')\n",
      "You probably need to get an updated matplotlibrc file from\n",
      "https://github.com/matplotlib/matplotlib/blob/v3.5.1/matplotlibrc.template\n",
      "or from the matplotlib source distribution\n",
      "\n",
      "Bad key animation.avconv_path in file c:\\users\\lucas\\appdata\\local\\programs\\python\\python37\\lib\\site-packages\\matplotlib\\mpl-data\\stylelib\\_classic_test.mplstyle, line 477 ('animation.avconv_path: avconv     # Path to avconv binary. Without full path')\n",
      "You probably need to get an updated matplotlibrc file from\n",
      "https://github.com/matplotlib/matplotlib/blob/v3.5.1/matplotlibrc.template\n",
      "or from the matplotlib source distribution\n",
      "\n",
      "Bad key animation.avconv_args in file c:\\users\\lucas\\appdata\\local\\programs\\python\\python37\\lib\\site-packages\\matplotlib\\mpl-data\\stylelib\\_classic_test.mplstyle, line 479 ('animation.avconv_args:            # Additional arguments to pass to avconv')\n",
      "You probably need to get an updated matplotlibrc file from\n",
      "https://github.com/matplotlib/matplotlib/blob/v3.5.1/matplotlibrc.template\n",
      "or from the matplotlib source distribution\n"
     ]
    }
   ],
   "source": [
    "import numpy as np\n",
    "import quantecon as qe\n",
    "import scipy.sparse as sparse\n",
    "from quantecon import compute_fixed_point\n",
    "from quantecon.markov import DiscreteDP\n",
    "from datetime import datetime\n",
    "import matplotlib.pyplot as plt"
   ]
  },
  {
   "cell_type": "code",
   "execution_count": 3,
   "metadata": {
    "id": "SjpZJGj-GClU"
   },
   "outputs": [],
   "source": [
    "# %load_ext itikz"
   ]
  },
  {
   "cell_type": "code",
   "execution_count": 4,
   "metadata": {
    "colab": {
     "base_uri": "https://localhost:8080/"
    },
    "id": "fuuCQlwEGClU",
    "outputId": "149e5845-d0fc-449e-df5a-365a77ecd255"
   },
   "outputs": [],
   "source": [
    "\n",
    "# #if colab:\n",
    "\n",
    "\n",
    "# !mkdir Plottings\n",
    "# !wget https://raw.githubusercontent.com/caxaxa/Corruption_Game/main/Plotting_Functions.ipynb\n",
    "# !wget https://raw.githubusercontent.com/caxaxa/Corruption_Game/main/Tests.ipynb\n"
   ]
  },
  {
   "cell_type": "code",
   "execution_count": 5,
   "metadata": {},
   "outputs": [],
   "source": [
    "%run Plotting_Functions.ipynb  #Notebook with the plotting functions created for these specific outputs\n",
    "%run Tests.ipynb  #Notebook with tests from the code\n"
   ]
  },
  {
   "cell_type": "markdown",
   "metadata": {
    "id": "PCJ-8RSBGClV"
   },
   "source": [
    "### Constants\n",
    "\n",
    "Given the following constants $\\theta$ for all periods $t$ and all agents $i \\in (payer,receiver)$:\n",
    "\n",
    "\n",
    "* Let $b$ be the fixed price of the bribes;\n",
    "\n",
    "* Let $a$ be the gains from corruption to the payer;\n",
    "\n",
    "* The cost from perfoming the corruption favour from the bribe receiver is $c_r$ ;\n",
    "\n",
    "* Let $f$ be the monetary fines for agents caught in corruption;\n",
    "\n",
    "* $i$ is the interest rate;\n",
    "\n",
    "* $\\delta$ is the liability depreciation or prescription;\n",
    "\n",
    "* $\\gamma$ is the time discount;\n",
    "\n",
    "* $\\eta$ is the agents' risk aversion;\n",
    "\n",
    "* $y_0$ is an autonomous non-financial income;\n",
    "\n",
    "* Probability of detection is $\\alpha$; and\n",
    "\n",
    "* Probability of conviction is $\\beta$.\n",
    "\n",
    "#### Leniency rules:\n",
    "\n",
    "* $R$ sanction reduction for unilateral self-reporting before detection;\n",
    "\n",
    "* $r$ sanction reduction for simultaneously self-reporting before detection;\n",
    "\n",
    "* $P$ sanction reduction for unilateral self-reporting after detection; and\n",
    "\n",
    "* $p$ sanction reduction for simultaneously self-reporting after detection.\n",
    "\n"
   ]
  },
  {
   "cell_type": "code",
   "execution_count": 6,
   "metadata": {
    "id": "mHP8abGwGClW"
   },
   "outputs": [],
   "source": [
    "\n",
    "#Constants are in globals\n",
    "\n",
    "b = 2 # Bribe\n",
    "a = 7 # Advantage From Corruption\n",
    "c_b = 0 # Cost of Corrutpion for the receiver\n",
    "f = 5 # Fine for corruption\n",
    "\n",
    "alpha = 0.2 # Probability of detection from authorities\n",
    "beta = 0.6 # Probability of judicial conviction\n",
    "\n",
    "ir = 0.1 # Interest Rates\n",
    "delta = 0.2 # Liability Depreciation\n",
    "\n",
    "gamma = 0.98 # Time discount\n",
    "eta = 0.9 # Risk Aversion\n",
    "\n",
    "\n",
    "y0 = 0 # Non-financial income\n",
    "yl = b #leaving wage\n",
    "\n",
    "\n",
    "# Defining the constants of sanction reduction\n",
    "R = 0\n",
    "\n",
    "r = 0.6\n",
    "\n",
    "P = 0.75\n",
    "\n",
    "p = 0.9\n",
    "\n",
    "\n",
    "# Defining the players in the instance\n",
    "\n",
    "player = 'payer'"
   ]
  },
  {
   "cell_type": "code",
   "execution_count": null,
   "metadata": {
    "id": "hoDysI1OGClX"
   },
   "outputs": [],
   "source": []
  },
  {
   "cell_type": "code",
   "execution_count": 7,
   "metadata": {
    "id": "QM3mApQjGClX"
   },
   "outputs": [],
   "source": [
    "def get_otherplayer(player):\n",
    "    if player == 'payer':\n",
    "        return 'receiver'\n",
    "    else:\n",
    "        return 'payer'"
   ]
  },
  {
   "cell_type": "markdown",
   "metadata": {
    "id": "pb_zjEU6GClY"
   },
   "source": [
    "### States and Actions:\n",
    "\n",
    "This example is built using discrete time, decisions and states:\n",
    "\n",
    "#### A set of discrete actions or decisions (controls)  $\\mathbf{d}_{i,t}$\n",
    "\n",
    "The decision regarding corruption $d{i,t}$ can assume 3 different values:\n",
    "\n",
    "* $not_{i,t}$ agents can choose to do nothing; \n",
    "\n",
    "* $cor_{i,t}$ is the decision from player $i$ to pay/receive a bribe in time $t$; and\n",
    "\n",
    "* $rep_{i,t}$ is the decision from player $i$ to self-report.\n",
    "\n",
    "Agents decide how much they are going to consume at each time $c_t$.\n",
    "A complementary way to represent the consumpion decision, is the decision of how much to save $w$, or buy financial assets.\n",
    "\n",
    "* $w_{i,t}$ is the decision of how much to save, can go from 0 to $(W_t)$\n",
    "\n",
    "#### A set of discrete states  $\\textbf{x}_{i,t}$\n",
    "\n",
    "##### State of the world $S$\n",
    "\n",
    "* $S_{i,t}$ is the state of the world at time $t$;\n",
    "\n",
    "* $s_{nc}$ is the state of the world where neither players are in corruption;\n",
    "\n",
    "* $s_{cor}$ is the state of the world where both agents succeded in corruption;\n",
    "\n",
    "* $s_{det,i}$ is the state of the world where the agent $i$ is detected for corruption;\n",
    "\n",
    "* $s_{con,i}$ is the state of the world where the agent $i$ is convicted;\n",
    "\n",
    "* $s_{acq,i}$ is the state of the world where the agent $i$ is acquitted;\n",
    "\n",
    "* $s_{sr,i}$ is the state of the world where the agent $i$ self-reported before being detected;\n",
    "\n",
    "* $s_{pg,i}$ is the state of the world where the agent $i$ plead guilty;\n",
    "\n",
    "and\n",
    "\n",
    "* The states of the world $( s_{nc}, s_{cor}, s_{det,i}, s_{col,i}, s_{con,i},s_{acq,i}, s_{sr,i}, s_{pg,i}) \\in S$;\n",
    "\n",
    "##### Wealth from Players\n",
    "\n",
    "* $W_{i,t}$ are the assets from player $i$ at time $t$. It goes from 0 to a maximum of $\\overline{W}$;\n",
    "\n",
    "##### Liability from Players\n",
    "\n",
    "* $L_{i,t}$ is the wealth from player $i$ at time $t$. It goes from 0 to a maximum of $\\overline{L}$;\n",
    "\n",
    "#### State and Action \n",
    "\n",
    "* Lastly, the states $( W_{i,t}, L_{i,t},S_{i,t}) \\in \\textbf{x}_{i,t}$ and the actions $(d_{i,t},w{i,t}) \\in \\mathbf{d}_{it}$.\n",
    "\n",
    "In summary:\n",
    "$\n",
    "\\begin{equation*}\n",
    "\t\\mathbf{d}_{t} \\equiv\n",
    "\t\\begin{bmatrix}\n",
    "\t\td_{t} \\\\\n",
    "\t\tw_{t} \\\\  \n",
    "\t\\end{bmatrix}\\textrm{, and }\n",
    "\t\\mathbf{x}_{t}\\equiv\n",
    "\t\\begin{bmatrix}\n",
    "\t\tW_{t}\\\\\n",
    "\t\tL_{t}\\\\\n",
    "\t\tS_{t}\n",
    "\t\\end{bmatrix}\n",
    "\\end{equation*}\n",
    "$\n",
    "### State and Action Spaces\n",
    "\n",
    "Let $\\mathbf{x}$ be the entire state-space. If,\n",
    "\n",
    "$W \\in [0,...,\\bar{W}]$,\n",
    "\n",
    "$L \\in [0,...,\\bar{L}]$, and\n",
    "\n",
    "$S \\in [s_{nc},s_{cor},s_{des},s_{det},s_{con},s_{acq},s_{sr},s_{pg}]$,\n",
    "\n",
    "then,\n",
    "\n",
    "$ \\mathbf{x} = [W,L,S] $ and has dimention $(3 \\times (\\bar{W}*\\bar{L}*8))$.\n",
    "\n",
    "* Let $\\mathbf{d}$ be the entire action or control-space. If,\n",
    "\n",
    "$d \\in [not_{i,t},cor_{i,t},rep_{i,t}]$ and\n",
    "\n",
    "$a = [0,...,\\bar{W}]$, then\n",
    "\n",
    "$ \\mathbf{d} = [a,d] $ and has dimention $(2 \\times (\\bar{W}*3))$."
   ]
  },
  {
   "cell_type": "code",
   "execution_count": 8,
   "metadata": {
    "id": "_iIyiWF1GClZ"
   },
   "outputs": [],
   "source": [
    "#maximun wealth from corruption:\n",
    "W_bar = 10\n",
    "\n",
    "#create the wealth statespace:\n",
    "W_space = np.arange(0,W_bar+1)\n",
    "\n",
    "#maximum liability\n",
    "L_bar = 5\n",
    "\n",
    "#create the wealth statespace:\n",
    "L_space = np.arange(0,L_bar+1)\n",
    "\n",
    "#creat the actionspace:\n",
    "# It is better to identify all decisions in one column than having a column to each binary decision. Because:\n",
    "# 1 - It enhances readibility;\n",
    "# 2 - Imply that agents cannot make two decisions in the same state; and\n",
    "# 3 - It makes no difference in the lenth of the feasible action-space.\n",
    "d_not = 0 # do nothing\n",
    "d_cor = 1 # pay a bribe\n",
    "d_rep = 2 # report a crime\n",
    "\n",
    "d_space = np.array([d_not,d_cor,d_rep])\n",
    "\n",
    "#create the saving space:\n",
    "w_space =  np.arange(0,W_bar+1)\n",
    "\n",
    "# state of the world space\n",
    "# It is better to use integers as ids so the arrays for the state-spaces preserve integer as the main data type. \n",
    "s_nc  = 0\n",
    "s_cor = 1\n",
    "s_det = 2\n",
    "s_des = 3\n",
    "s_con = 4\n",
    "s_acq = 5\n",
    "s_sr = 6\n",
    "s_pg = 7\n",
    "\n",
    "S_space = np.array([s_nc,s_cor,s_det,s_des,s_con,s_acq,s_sr,s_pg])"
   ]
  },
  {
   "cell_type": "markdown",
   "metadata": {
    "id": "WXyP_ziMGClZ"
   },
   "source": [
    "### Output from states an Actions (Payoffs)\n",
    "\n",
    "#### Returns from Corruption \n",
    "\n",
    "It is possible to write the corruption in terms of payoffs $\\pi_{i,t+1}(d)$ and costs $\\phi_{i,t}(d)$ for players.\n",
    "\n",
    "Or else, if players choose to pay a bribe then:\n",
    "\n",
    "$\\pi_{payer} = a$ and, $\\pi_{receiver} = b$. \n",
    "\n",
    "Also, $\\phi_{payer} = b$ and, $\\phi_{receiver} = c_{b}$.\n",
    "\n",
    "Moreover, the cost and the return for players from not entering in bribery is 0."
   ]
  },
  {
   "cell_type": "code",
   "execution_count": 9,
   "metadata": {
    "id": "hiyB7D_kGCla"
   },
   "outputs": [],
   "source": [
    "#Cost and return functions\n",
    "def get_pi_i(player, Si):#return from bribery\n",
    "    if Si == s_cor: ## substitute by the function S_prime to get pi_prime of d_t.\n",
    "        if player == 'payer':\n",
    "            return a\n",
    "        else:\n",
    "            return b\n",
    "    else:\n",
    "        return 0\n",
    "\n",
    "    \n",
    "def get_phi_i(player, di,dj): #cost from bribery\n",
    "    if di == 1 and dj == 1:\n",
    "        if player == 'payer':\n",
    "            return b\n",
    "        else:\n",
    "            return c_b\n",
    "    else:\n",
    "        return 0"
   ]
  },
  {
   "cell_type": "markdown",
   "metadata": {
    "id": "rRyIrRscGCla"
   },
   "source": [
    "#### Criminal liability $l$\n",
    "\n",
    "Agents are liable for each crime $l_t$ they commited. \n",
    "\n",
    "Each bribe paid generates a criminal liability $l$ in the next period.\n",
    "\n",
    "Nonetheless, liability from crimes tend to depreciate at a rate $\\delta$ over time. \n",
    "\n",
    "The history of the liabilities is expressed by the state $L_t$ each period.\n",
    "\n",
    "$l_{t}(d) = \\begin{cases}\n",
    "\t1 \\textrm{   if colluding and } d_{t} = 1 \\\\\n",
    "\t-1 \\textrm{   if desisted and } d_{t} = 0 \\\\\n",
    "    0 \\textrm{  else}\\end{cases}$\n",
    "\n",
    "\n"
   ]
  },
  {
   "cell_type": "code",
   "execution_count": 10,
   "metadata": {
    "id": "xlH1iHrcGClb"
   },
   "outputs": [],
   "source": [
    "# liability from crimes\n",
    "def get_li_prime(di, dj, S_prime):\n",
    "    if S_prime == s_des:\n",
    "        return -1\n",
    "    elif di == 1 and dj == 1:\n",
    "        return 1\n",
    "    else:\n",
    "        return 0\n",
    "    \n"
   ]
  },
  {
   "cell_type": "markdown",
   "metadata": {
    "id": "IBvkUn0kGClb"
   },
   "source": [
    "#### Sanctions $s$\n",
    "\n",
    "If agents are convicted for corruption ($s_{con}$), they pay a monetary $s$.\n",
    "\n",
    "The sanction depends on the fine $f$ for each crime that they are liable at that time $L_t$.\n",
    "\n",
    "If agents, decide do self-report their misconducts before being detected they recieve a reduction from the sanction.\n",
    "\n",
    "The reduction is $R$ if they unilaterealy report, or $r$ if they report together.\n",
    "\n",
    "If agents, decide do self-report their misconducts after being detected they recieve a reduction from the sanction.\n",
    "\n",
    "The reduction is $P$ if they unilaterealy report, or $p$ if they report together.\n"
   ]
  },
  {
   "cell_type": "code",
   "execution_count": 11,
   "metadata": {
    "id": "rt4nLgDNGClb"
   },
   "outputs": [],
   "source": [
    "#sanction from crimes\n",
    "def get_si(Li ,Si,Sj):\n",
    "    if Li == 0:\n",
    "        return 0\n",
    "    elif Si == s_con:\n",
    "        return f*Li + (get_pi_i(player,1)/(gamma**(Li*2)))*(Li-1)  # discounted gain from corruption\n",
    "    elif Si == s_sr:\n",
    "        if Sj == s_sr:\n",
    "            return r*f*Li + (get_pi_i(player,1)/(gamma**(Li*2)))*(Li-1)\n",
    "        else:\n",
    "            return R*f*Li + (get_pi_i(player,1)/(gamma**(Li*2)))*(Li-1)\n",
    "    elif Si == s_pg:\n",
    "        if Sj == s_pg:\n",
    "            return p*f*Li + (get_pi_i(player,1)/(gamma**(Li*2)))*(Li-1)\n",
    "        else:\n",
    "            return P*f*Li + (get_pi_i(player,1)/(gamma**(Li*2)))*(Li-1)\n",
    "    else:\n",
    "        return 0\n"
   ]
  },
  {
   "cell_type": "markdown",
   "metadata": {
    "id": "JFEpN99iGClc"
   },
   "source": [
    "#### Financial Income $y_f$:\n",
    "\n",
    "Financial income $y_f$ is given by the interest rates $r$ over the savings $w$.\n",
    "\n",
    "#### Corruption Income $y_c$:\n",
    "\n",
    "\n",
    "Now it is possible to define the agents income.\n",
    "\n",
    "At each period $t$ the agents $i$ have an income that depends on their current state:\n",
    "\n",
    "\n",
    "For $y_c \\in (0,\\pi,s,Rs,rs,Ps,ps)$ let,\n",
    "\n",
    "$y_{c ~ t}(\\mathbf{x}_t) = \\begin{cases}\n",
    "\t0\\textrm{   if not colluding}\\\\\n",
    "\t\\pi \\textrm{   if colluding}\\\\\n",
    "\t0\\textrm{   if desisted} \\\\\n",
    "\t s\\textrm{   if Convicted } \\\\\n",
    "\t0 \\textrm{ if Acquitted } \\\\\n",
    "    Rs \\textrm{ if Reported alone before detection } \\\\\n",
    "    rs \\textrm{ if reported simultaneously before detection}\\\\\n",
    "    Ps \\textrm{ if Reported alone after detection } \\\\\n",
    "    ps \\textrm{ if reported simultaneously after detection}\n",
    "\t\\end{cases}$.\n",
    "    \n",
    "    \n",
    "Lastly, $W_t = y_0+ y_f + y_c$"
   ]
  },
  {
   "cell_type": "code",
   "execution_count": 12,
   "metadata": {
    "id": "r5jLmjkuGClc"
   },
   "outputs": [],
   "source": [
    "# Income        \n",
    "def get_yfi_prime(w):\n",
    "    return int(round((1 + ir)*w))\n",
    "\n",
    "def get_yfc_prime(player, L_prime, Si_prime, Sj_prime):\n",
    "    return get_pi_i(player, Si_prime) - get_si(L_prime, Si_prime, Sj_prime)"
   ]
  },
  {
   "cell_type": "markdown",
   "metadata": {
    "id": "00OmvL7VGClc"
   },
   "source": [
    "    \n",
    "#### Expected return\n",
    "\n",
    "$$ - \\phi + \\gamma E \\left[ \\sum_{\\mathbf{x}} (\\pi - s) \\right] $$\n",
    "\n",
    "It is convenient to define the expected return from corruption. Or else, the return $y_{c ~ t}$ that agents expect to have given their state $\\mathbf{x_t}$ and decisions $\\mathbf{d_t}$.\n",
    "\n",
    "$$E\\left[ y_{c~ i,t} | \\mathbf{x}_{i,t},\\mathbf{d}_{i,t} \\right] = E\\left[-\\phi_{i,t}(d_{i,t},d_{j,t}) \\right]+ E\\left[\\pi_{i,t+1}(di,dj) \\right]+ E\\left[ s_{i,t+1}(L_{i,t+1},di,dj)\\right]$$\n",
    "\n",
    "For exemple, if $d_i = d_{cor}$ and $d_j = d_{cor}$:\n",
    "\n",
    "$$E\\left[ y_{c ~ i,t} | \\mathbf{x}_{i,t},\\mathbf{d}_{i,t} \\right] = -\\phi_{i,t}(d_{i,t},d_{j,t}) + (1+\\alpha)\\pi_{i,t+1}(di,dj) + \\alpha \\beta s_{i,t+1}(L_{i,t+1},di,dj)$$\n"
   ]
  },
  {
   "cell_type": "code",
   "execution_count": 13,
   "metadata": {
    "id": "uZK6xzAfGCld"
   },
   "outputs": [],
   "source": [
    "# Expected retrun next period from corruption.\n",
    "def expected_return_i(player, L_prime, W_prime):\n",
    "    return - get_phi_i(player, d_cor , d_cor) + gamma *((1-alpha)*get_pi_i(player, s_cor) + alpha*beta*get_si(L_prime, s_con , s_con))"
   ]
  },
  {
   "cell_type": "markdown",
   "metadata": {
    "id": "y-eSaBjWGCld"
   },
   "source": [
    "### Laws of motion\n",
    "\n",
    "$$\\mathbf{x}_{t+1} = x ( \\mathbf{x}_t , \\mathbf{d}_t , \\varepsilon_{t+1} ; \\theta ) $$\n",
    "\n",
    "Where $\\theta$ is a vector of constant parameters.\n",
    "\n",
    "And $\\varepsilon \\sim Bernoulli ~ (\\alpha)$"
   ]
  },
  {
   "cell_type": "markdown",
   "metadata": {
    "id": "UzNYtMehGCld"
   },
   "source": [
    "\n",
    "\n",
    "#### Wealth transition rule\n",
    "In this specific example we have:\n",
    "\n",
    "$$W_{i,t+1} = y_{f ~ i,t+1}  + y_{c ~ i,t+1} + y_0 $$\n",
    "\n",
    "where,\n",
    "\n",
    "$$ y_{f ~ i,t+1}  = (1+r)w_{i,t}$$ or,\n",
    "\n",
    "$$ w_{i,t}  = W_{i,t} - c_{i,t} - \\phi{i,t} $$\n",
    "\n",
    "Since wealth increases because of income. Be it from, financial investments, corruption or non-financial income.\n"
   ]
  },
  {
   "cell_type": "code",
   "execution_count": 14,
   "metadata": {
    "id": "C3y5agsvGCld"
   },
   "outputs": [],
   "source": [
    "\n",
    "# What is not saved is totally consumed in t or paid in phi\n",
    "def get_Wi_prime(player, wi, L_prime, Si_prime, Sj_prime):\n",
    "    if y0 + get_yfi_prime(wi) + get_yfc_prime(player, L_prime, Si_prime, Sj_prime) > yl:\n",
    "        if y0 + get_yfi_prime(wi) + get_yfc_prime(player, L_prime, Si_prime, Sj_prime) <= W_bar:\n",
    "            return int(round(y0 + get_yfi_prime(wi) + get_yfc_prime(player, L_prime, Si_prime, Sj_prime)))\n",
    "        else:\n",
    "            return W_bar\n",
    "    elif y0 + get_yfi_prime(wi) + get_yfc_prime(player, L_prime, Si_prime, Sj_prime) > 0:\n",
    "        return int(round(y0 + get_yfi_prime(wi) + get_yfc_prime(player, L_prime, Si_prime, Sj_prime))) + yl  \n",
    "    else:\n",
    "        return yl ### or y0 -> Depends on the hypothesis... if Wi is negative the players use or not the y0 to pay the Fines"
   ]
  },
  {
   "cell_type": "markdown",
   "metadata": {
    "id": "The_YoRQGCle"
   },
   "source": [
    "#### Liability transition rule\n",
    "\n",
    "$$L_{i,t+1} = (1-d)L_{i,t} + l_{i,t+1} $$\n",
    "\n",
    "Liability decays over time. Because information gets lost over time and also because of prescripion rules."
   ]
  },
  {
   "cell_type": "code",
   "execution_count": 15,
   "metadata": {
    "id": "TgeygAf7GCle"
   },
   "outputs": [],
   "source": [
    "def get_Li_prime(Li,di,dj,Si_prime):\n",
    "    if Si_prime == s_nc: # There are no Liabilities after judgments\n",
    "        return 0\n",
    "    elif ((Li + get_li_prime(di, dj,Si_prime) > 0) and (Li + get_li_prime(di, dj,Si_prime) <= L_bar)) :\n",
    "        return Li + get_li_prime(di, dj, Si_prime)\n",
    "    elif Li + get_li_prime(di, dj,Si_prime) > L_bar :\n",
    "        return L_bar\n",
    "    else:\n",
    "        return 0\n",
    "    \n",
    "################################### no decrease after 2"
   ]
  },
  {
   "cell_type": "markdown",
   "metadata": {
    "id": "daBPyYp9GCle"
   },
   "source": [
    "$$S_{t+1} = S(\\varepsilon, S_t|d_t) $$\n",
    "\n",
    "The transition rule for $s$ is better represented by the diagram bellow:"
   ]
  },
  {
   "cell_type": "code",
   "execution_count": 16,
   "metadata": {
    "id": "yRcwPm1kGCle"
   },
   "outputs": [],
   "source": [
    "# %%itikz\n",
    "# \\documentclass[tikz]{standalone}\n",
    "# \\begin{document}\n",
    "\n",
    "\n",
    "# \\usetikzlibrary{decorations.pathreplacing,angles,quotes,calc,positioning,plotmarks}\n",
    "# \\usetikzlibrary{shapes.geometric, arrows, automata,arrows,positioning,calc}\n",
    "# \\tikzstyle{startstop} = [rectangle, rounded corners, minimum width=3cm, minimum height=1cm,text centered, draw=black]\n",
    "# \\tikzstyle{io} = [trapezium, trapezium left angle=70, trapezium right angle=110, minimum width=3cm, minimum height=1cm, text centered, draw=black]\n",
    "# \\tikzstyle{process} = [rectangle, minimum width=3cm, minimum height=1cm, text centered, draw=black]\n",
    "# \\tikzstyle{decision} = [diamond, minimum width=3cm, minimum height=1cm, text centered, draw=black]\n",
    "# \\tikzstyle{arrow} = [thick,->,>=stealth]\n",
    "\n",
    "# \\begin{tikzpicture}[->, >=stealth', auto, semithick, node distance=2cm]\n",
    "# \t\t\\tikzstyle{every state}=[fill=white,draw=black,thick,text=black,scale=1]\n",
    "# \t\t\\node[state]    (A)        \t\t       {No Corrup.};\n",
    "# \t\t\\node[state]    (B)[above right of= B]  at (2.5,2)\t     \t {Detected};\n",
    "# \t\t\\node[state]    (C)[below right of= B]\tat (2.5,-1.5)\t         {Colluding};\n",
    "# \t\t\\node[state]    (D)[right of= B]  at (6,0)\t\t\t\t { Desisted };\n",
    "# \t\t\\node[state]    (E)[right of= B]  at (2,0)\t\t\t\t { Convicted };\n",
    "# \t\t\\node[state]    (F)[right of= B]  at (2,-6)\t\t\t\t { Collab. };\n",
    "# \t\t\\path\n",
    "# \t\t(A) edge[loop left, left]\t    \t         node{1}   \t\t        (A)\n",
    "# \t\t(A) edge[bend right,below]    \t\t\t     node{2}        \t\t(C)\n",
    "# \t\t(A) edge[right,below]    \t\t\t         node{3}        \t\t(B)                     \n",
    "# \t\t(C) edge[loop below, above]    \t\t\t\t node{4}            \t(C)                  \n",
    "# \t\t(C) edge[very near end,bend left, right]   \t node{5}            \t(B)\n",
    "# \t\t(B) edge[bend right,above]    \t\t\t\t node{6*}            \t(A)\n",
    "# \t\t(C) edge [bend right,below]             \t node{7}                (D)\n",
    "# \t\t(D) edge [bend right,above]     \t         node{8}                (C)\n",
    "# \t\t(D) edge[loop right]\t      \t\t\t\t node{9}                (D)\n",
    "# \t\t(D) edge[bend right,above]    \t\t\t\t node{10}            \t(B)\n",
    "# \t\t(D) edge [above]    \t\t\t\t\t\t node{11}            \t(E)\n",
    "# \t\t(B) edge    \t\t\t\t\t\t\t\t node{12}            \t(E)\n",
    "# \t\t(C) edge    \t\t\t\t\t\t\t\t node{13}            \t(E)\n",
    "# \t\t(B) edge[very near end,bend right,left]      node{14}               (F)                    \n",
    "# \t\t(D) edge[bend left]                \t\t\t node{15}               (F)\n",
    "# \t\t(C) edge[bend left]                \t\t\t node{16}               (F)\n",
    "# \t\t(F) edge[bend left]                \t\t\t node{17}               (A)\n",
    "# \t\t(E) edge[above]                  \t\t\t node{18}               (A);\n",
    "# \t\\end{tikzpicture}\n",
    "# \\end{document}\n",
    "\n",
    "                    "
   ]
  },
  {
   "cell_type": "markdown",
   "metadata": {
    "id": "mYRT4W8cGClf"
   },
   "source": [
    "### State Transition Rule for S(x'|x,d)\n",
    "\n",
    "1) If no bribe is paid, the agent stays in the state not corruption. They can agree in corruption only if both parties join.: \n",
    "\n",
    "* $p(x' = s_{nc} | x = s_{nc}, d_i = 0 ~ or ~  d_j = 0) = 1$\n",
    "\n",
    "2) Agents go from not no corruption to corruption when they pay bribe with probability (1 - $\\alpha$) \n",
    "\n",
    "* $p(x' = s_{cor} | x = s_{nc}, d_i = 1 ~ and ~ dj_1) = 1 - \\alpha$\n",
    "\n",
    "3) If agents pay a bribe they can go from no corruption to detected with probability ($\\alpha$)\n",
    "\n",
    "* $p(x' = s_{det} | x = s_{nc}, d_i = 1 ~ and ~ d_j=1 ) = \\alpha$\n",
    "\n",
    "4) Agents stay in corruption if they keep paying bribes with probability  (1 - $\\alpha$) \n",
    "\n",
    "* $p(x' = s_{cor} | x = s_{corr}, d_i = 1 ~ and ~ d_j=1) = 1 - \\alpha$\n",
    "\n",
    "5) If agents pay a bribe they can go from corruption to detected with probability ($\\alpha$)\n",
    "\n",
    "* $p(x' = s_{det} | x = s_{nc}, d_i = 1 ~ and ~ d_j=1) = \\alpha$\n",
    "\n",
    "6) * If agents are detected and they do not plea guilty, they are acquitted with probability $(1-\\beta)$. After, they go back to the state with no corrution.\n",
    "\n",
    "* $p(x' = s_{acq} | x = s_{cor}, d_i = 0 ~ and ~ d_j = 0) = 1 - \\beta$\n",
    "\n",
    "* $p(x' = s_{nc} |  x = s_{acq}) = 1 $\n",
    "\n",
    "7) Agents can desist from corruption if they stop paying bribes;\n",
    "\n",
    "* $p(x' = s_{des} | x = s_{cor}, d_i = 0 ~ and ~ d_j = 0) = 1 - \\alpha$\n",
    "\n",
    "8) If agents pay bribes again, and they succed, they go back to corruption state;\n",
    "\n",
    "* $p(x' = s_{des} | x = s_{cor},d_i = 1 ~ and ~ d_j=1) = 1 - \\alpha$\n",
    "\n",
    "9) If agents still not paying bribes they stay at desist state if they are not detected;\n",
    "\n",
    "* $p(x' = s_{des} | x = s_{des},  d_i = 0 ~ and ~ d_j = 0) = 1 - \\alpha$\n",
    "\n",
    "10) If agents pay bribes again, and are detected, they go to detected state;\n",
    "\n",
    "* $p(x' = s_{det} | x = s_{cor}, d_i = 1 ~ and ~ dj_ = 1) = \\alpha$\n",
    "\n",
    "11) If agents are reported, they are convicted for sure;\n",
    "\n",
    "* $p(x' = s_{des} | x = s_{con}, d_i \\neq 2 ~ and ~d_j = 2 ) = \\alpha$\n",
    "\n",
    "12) If agents are detected and do not plea guilty, they are convicted if the other agent report or if they not repor with probability $\\beta$;\n",
    "\n",
    "* $p(x' = s_{con} | x = s_{det}, d_i \\neq 2 ~ and ~d_j \\neq 2 ) = \\beta$\n",
    "\n",
    "* $p(x' = s_{con} | x = s_{det}, d_i \\neq 2 ~ and ~d_j = 2 ) = 1$\n",
    "\n",
    "13) If agents are reported they are convicted with certainty;\n",
    "\n",
    "* $p(x' = s_{con} | x = s_{cor}, d_i \\neq 2 ~ and~ d_j = 2 ) = 1$\n",
    "\n",
    "14) If agents plea guilty they will be collaborating with certainty;\n",
    "\n",
    "* $p(x' = s_{col} | x = s_{det}, d_i = 2) = 1$\n",
    "\n",
    "15) If agents report their crimes they will be collaborating with certainty;\n",
    "\n",
    "* $p(x' = s_{col} | x = s_{des}, d_i = 2) = 1$\n",
    "\n",
    "16) If agents report their crimes they will be collaborating with certainty;\n",
    "\n",
    "* $p(x' = s_{col} | x = s_{cor}, d_i = 2) = 1$\n",
    "\n",
    "17) After collaborating with autorities, agents are back to the stage of non corruption;\n",
    "\n",
    "* $p(x' = s_{nc} | x = s_{col}) = 1$\n",
    "\n",
    "18) After convicted by autorities, agents are back to the stage of non corruption;\n",
    "\n",
    "* $p(x' = s_{nc} | x = s_{con}) = 1$\n"
   ]
  },
  {
   "cell_type": "code",
   "execution_count": 17,
   "metadata": {
    "id": "8RpTBjeiGClf"
   },
   "outputs": [],
   "source": [
    "#Translate all rules into if statements:\n",
    "\n",
    "def rule_1(Si,di,dj):\n",
    "    if Si == s_nc and (di == d_not or dj == d_not): #s_nc , 1\n",
    "        return True\n",
    "    else:\n",
    "        return False \n",
    "    \n",
    "def rule_2(Si,di,dj):\n",
    "    if Si == s_nc and (di == d_cor and dj == d_cor): #s_cor# , 1 - alpha\n",
    "        return True\n",
    "    else:\n",
    "        return False \n",
    "    \n",
    "def rule_3(Si,di,dj):\n",
    "    if Si == s_nc and (di == d_cor and dj == d_cor): # s_det #, alpha\n",
    "        return True\n",
    "    else:\n",
    "        return False\n",
    "    \n",
    "def rule_4(Si,di,dj):\n",
    "    if Si == s_cor and (di == d_cor and dj == d_cor): #s_cor #, 1 - alpha\n",
    "        return True\n",
    "    else:\n",
    "        return False \n",
    "    \n",
    "def rule_5(Si,di,dj):\n",
    "    if Si == s_cor and (di == d_cor or dj == d_cor) and (di != d_rep and dj != d_rep): # s_det# , alpha\n",
    "        return True\n",
    "    else:\n",
    "        return False \n",
    "    \n",
    "def rule_6_1(Si,di,dj): # s_nc# , 1\n",
    "    if Si == s_acq:\n",
    "        return True\n",
    "    else:\n",
    "        return False \n",
    "    \n",
    "def rule_6_2(Si,di,dj):    \n",
    "    if Si == s_det and (di == d_not and dj == d_not): # s_acq# , 1 - beta\n",
    "        return True\n",
    "    else:\n",
    "        return False \n",
    "    \n",
    "def rule_7(Si,di,dj):\n",
    "    if Si == s_cor and (di == d_not or dj == d_not) and (di != d_rep and dj != d_rep):# s_des# , 1 - alpha\n",
    "        return True\n",
    "    else:\n",
    "        return False \n",
    "\n",
    "def rule_8(Si,di,dj):\n",
    "    if Si == s_des and (di == d_cor and dj == d_cor):# s_cor# , 1 - alpha\n",
    "        return True\n",
    "    else:\n",
    "        return False \n",
    "\n",
    "def rule_9(Si,di,dj):\n",
    "    if Si == s_des and (di == d_not or dj == d_not) and (di != d_rep and dj != d_rep):# s_des# , 1 - alpha\n",
    "        return True\n",
    "    else:\n",
    "        return False \n",
    "    \n",
    "def rule_10(Si,di,dj):\n",
    "    if Si == s_des and (di != d_rep and dj != d_rep):# s_det# , alpha\n",
    "        return True\n",
    "    else:\n",
    "        return False \n",
    "    \n",
    "def rule_11(Si,di,dj):\n",
    "    if Si == s_des and (di == d_not or di == d_cor) and dj == d_rep:# s_con # , 1 \n",
    "        return True\n",
    "    else:\n",
    "        return False\n",
    "    \n",
    "def rule_12(Si,di,dj):\n",
    "    if Si == s_det:\n",
    "        if (di == d_not and dj == d_not):#  s_con # , beta\n",
    "            return True\n",
    "        elif (di == d_not and dj ==d_rep):# s_con #, 1\n",
    "            return True\n",
    "        else:\n",
    "            return False  \n",
    "        \n",
    "def rule_13(Si,di,dj):\n",
    "    if Si == s_cor and (di == d_not or di == d_cor) and dj == d_rep:# s_con # , 1 \n",
    "        return True\n",
    "    else:\n",
    "        return False  \n",
    "    \n",
    "def rule_14(Si,di,dj):\n",
    "    if Si == s_det and di == d_rep:# s_pg # , 1 \n",
    "        return True\n",
    "    else:\n",
    "        return False   \n",
    "    \n",
    "def rule_15(Si,di,dj):\n",
    "    if Si == s_des and di == d_rep:# s_sr # , 1 \n",
    "        return True\n",
    "    else:\n",
    "        return False  \n",
    "    \n",
    "def rule_16(Si,di,dj):\n",
    "    if Si == s_cor and di == d_rep:# s_sr # , 1\n",
    "        return True\n",
    "    else:\n",
    "        return False  \n",
    "\n",
    "def rule_17(Si,di,dj):\n",
    "    if Si == s_sr or Si == s_pg:# s_nc# , 1\n",
    "        return True\n",
    "    else:\n",
    "        return False \n",
    "    \n",
    "def rule_18(Si,di,dj):# s_nc# , 1\n",
    "    if Si == s_con:\n",
    "        return True\n",
    "    else:\n",
    "        return False \n",
    "\n",
    "# Each future state has a unique probability to be achieved\n",
    "def get_prob(Si_prime, Sj_prime ):\n",
    "    if Si_prime == s_nc or Si_prime == s_sr or Si_prime == s_pg or Sj_prime == s_sr or Sj_prime == s_pg :\n",
    "        return 1\n",
    "    elif Si_prime == s_cor or Si_prime == s_des:\n",
    "        return 1 - alpha\n",
    "    elif Si_prime == s_det:\n",
    "        return alpha\n",
    "    elif Si_prime == s_con and Sj_prime == s_con:\n",
    "        return beta\n",
    "    elif Si_prime == s_acq:\n",
    "        return 1 - beta\n",
    "    \n",
    "# Each future statement is feasible from a set of rules:\n",
    "#The following set of functions \n",
    "\n",
    "def get_Si_prime(Si,di,dj):\n",
    "    Si_prime = []\n",
    "    if rule_1(Si,di,dj) or rule_6_1(Si,di,dj) or rule_17(Si,di,dj) or rule_18(Si,di,dj):\n",
    "        Si_prime.append(s_nc)\n",
    "    if rule_2(Si,di,dj) or rule_4(Si,di,dj) or rule_8(Si,di,dj):\n",
    "        Si_prime.append(s_cor)\n",
    "    if rule_7(Si,di,dj)  or rule_9(Si,di,dj):\n",
    "        Si_prime.append(s_des)\n",
    "    if rule_3(Si,di,dj) or rule_5(Si,di,dj) or rule_10(Si,di,dj):\n",
    "        Si_prime.append(s_det)\n",
    "    if rule_11(Si,di,dj) or rule_12(Si,di,dj) or rule_13(Si,di,dj):\n",
    "        Si_prime.append(s_con)\n",
    "    if rule_6_2(Si,di,dj):\n",
    "        Si_prime.append(s_acq)\n",
    "    if rule_15(Si,di,dj) or rule_16(Si,di,dj):\n",
    "        Si_prime.append(s_sr)\n",
    "    if rule_14(Si,di,dj):\n",
    "        Si_prime.append(s_pg)\n",
    "    return Si_prime\n",
    "    \n",
    "    "
   ]
  },
  {
   "cell_type": "markdown",
   "metadata": {
    "id": "LnP6l2iZGClg"
   },
   "source": [
    "### Objective Function\n",
    "\n",
    "$$ \\max E_0 \\sum^{\\infty}_{t=0} \\gamma^t u( c_{t}) $$\n",
    "\n",
    "\n",
    "\n",
    "It is possible to define consumption $c_t$ in a certain period as the leftover from consumption:\n",
    "\n",
    "\n",
    "\n",
    "Therfore $u(.)$ is a CCRA function, where;\n",
    "\n",
    "$$u(c) = \\frac{\\displaystyle c ^{(1-\\eta)} - 1 } {1-\\eta} $$\n",
    "\n",
    "Where $\\eta$ is the risk aversion parameter. Where $\\eta > 0$ represents some degree of risk aversion.\n",
    "\n",
    "It is also possible to write $c_t$ as a function of $\\mathbf{x}_{i,t},\\mathbf{d}_{i,t}$:\n",
    "\n",
    "$$ c_t = W_t - w_t - \\phi_t $$"
   ]
  },
  {
   "cell_type": "code",
   "execution_count": 18,
   "metadata": {
    "id": "D-UTyLfEGClg"
   },
   "outputs": [],
   "source": [
    "# Define the consumption function:\n",
    "def get_ci(Wi,wi,phi):\n",
    "    return Wi - wi - phi\n",
    "\n",
    "# Define the utility Function\n",
    "\n",
    "def u(c):\n",
    "    if eta != 1:\n",
    "        return (c**(1-eta)-1)/(1-eta)\n",
    "    else:\n",
    "        return ln(c) #import ln function"
   ]
  },
  {
   "cell_type": "markdown",
   "metadata": {
    "id": "ReZPfXBdGClg"
   },
   "source": [
    "### The agent's problem:\n",
    "\n",
    "\n",
    "$$ \\max E_0 \\sum^{\\infty}_{t=0} \\gamma^t u( c_{t}) $$\n",
    "\n",
    "s.t.\n",
    "\n",
    "$$W_{i,t+1} = (1+r)w_{i,t} + y_{i,t+1}$$\n",
    "$$L_{i,t+1} = (1-d)L_{i,t} + l_{t+1} $$\n",
    "$$S_{t+1} = f(\\varepsilon, S_t|d_t) $$\n",
    "\n",
    "where, $w_{i,t} =W_t - c_t -\\phi_t$\n",
    "\n",
    "\n",
    "It is possible to rewrite the agent's problem as a value function, such as:\n",
    "\n",
    "$$V(\\mathbf{x}) = \\max_{\\mathbf{x},\\mathbf{x'},\\mathbf{d}} \\{ u(\\mathbf{x}) + \\gamma E[V(\\mathbf{x'})|\\mathbf{x},\\mathbf{d}]\\}$$\n",
    "\n",
    "This is called the Bellman Equation and it is quivallento to:\n",
    "\n",
    "$$V(\\mathbf{x}) = \\max_{\\mathbf{x},\\mathbf{x'},\\mathbf{d}} \\{ R(\\mathbf{x},\\mathbf{d}) + \\gamma V(\\mathbf{x'}) \\Omega(\\mathbf{x'},\\mathbf{d},\\mathbf{x})\\}$$\n",
    "\n",
    "\n",
    "This problem can be solved by iterating the matrix $\\Omega$ through the reward function $R$.\n",
    "\n",
    "Note that the controls $\\mathbf{d}$ which solve the Bellman equation is a pair of decisions. This pair of decisions must hold at the optimum level.\n",
    "\n",
    "So, to solve for the pair or decisions $\\mathbf{d}$, first, we calculate the optimum policy for the payer $\\sigma_{payer}$ using the receiver policy $\\sigma_{receiver}$ as a greedy policy. Such that, \n",
    "\n",
    " \\begin{equation}\n",
    "\t\\sigma(\\mathbf{x}) \\in \\max_{\\mathbf{x},\\mathbf{x'},\\mathbf{u}} \\{ u(\\mathbf{x}) + \\delta \\sum_{\\mathbf{x}}  V^*(\\mathbf{x'})\\Omega(\\mathbf{x'},\\mathbf{u},\\mathbf{x})\\}\n",
    "\t\\label{v4}\n",
    "\\end{equation}\n",
    "\n",
    "The quantecom package DiscreteDP was used to calculate the strategies. "
   ]
  },
  {
   "cell_type": "markdown",
   "metadata": {
    "id": "XK_C6QvTGClg"
   },
   "source": [
    "### The curse of dimensionality:\n",
    "\n",
    "The set of possible state-action space for both players is imense. It has dimension $(n \\times m)$ where, $n$ is the number of states and pairs and $m$ is their multiplied lenths, or:\n",
    "\n",
    "$n= length(W_i + W_j + L_i + L_j + S_i + S_j + w_i + w_j + d_i + d_j) =  10$ ; and\n",
    "\n",
    "for $\\bar{W} = 10 $ and $\\bar{L} = 5$ then,\n",
    "\n",
    "$m = (\\bar{W}*\\bar{W}*\\bar{L}*\\bar{L}*8*8*\\bar{W}*\\bar{W}*3*3) = 144.000.000$.\n",
    "\n",
    "#### Dimension Reductions:\n",
    "\n",
    "Instead of working with the entire space of controls $\\mathbf{x}$ and states $\\mathbf{d}$ (Sparce Matrices). It is possible to criativelly reduce the diension from the matrices $R$ and $\\Omega$.\n",
    "\n",
    "The two main strategies here are:\n",
    "\n",
    "##### Delimitate then states that players can observe:\n",
    "\n",
    "This is not only a convenient limitation it is a necessary assumption. For instance, it is assumed that agents don't know the wealth $W$ or the assets from the other players. \n",
    "\n",
    "Also, since they are playing sequentially, we can imply that the level of liability from one player is the same as the other. At least it is a good estimation from the player's perspective.\n",
    "\n",
    "Lastly, the path in states of the world $S$ are tied to the players' decisions. Or else, they can estimate the other player' just by knowing ther current state of the world.\n",
    "\n",
    "With these assumption it is possible to estimate the other player decision $j$ as functions from the current observable state.\n",
    "\n",
    "The greedy $\\sigma_{greedy}$ strategy can be defined as:\n",
    "\n",
    "$$\\sigma_{greedy}(\\mathbf{x}) = argmax_{\\mathbf{x},\\mathbf{x'},\\mathbf{d}} \\{ R(\\mathbf{x},\\mathbf{d}) + \\gamma R(\\mathbf{x'}) \\Omega(\\mathbf{x'},\\mathbf{d},\\mathbf{x})\\}$$"
   ]
  },
  {
   "cell_type": "code",
   "execution_count": 19,
   "metadata": {
    "colab": {
     "base_uri": "https://localhost:8080/"
    },
    "id": "QLp-etbEGClh",
    "outputId": "5a922fc1-854a-4791-e445-cb90a6257cc3"
   },
   "outputs": [
    {
     "data": {
      "text/plain": [
       "144000000"
      ]
     },
     "execution_count": 19,
     "metadata": {},
     "output_type": "execute_result"
    }
   ],
   "source": [
    "#Space of possibilities in a complete game\n",
    "m_max = (W_bar*W_bar*L_bar*L_bar*len(S_space)*len(S_space)*len(d_space)*len(d_space)*W_bar*W_bar)\n",
    "m_max"
   ]
  },
  {
   "cell_type": "code",
   "execution_count": 20,
   "metadata": {
    "id": "5mssgthnGClh"
   },
   "outputs": [],
   "source": [
    "#j's greedy strategy (dj)\n",
    "# since W_j is not observable by i then it is not modeled:\n",
    "# So yc and y0 are the only relevant incomes:\n",
    "\n",
    "def get_dj(player, Si, L_prime ,Wi,Li,Sj): # Two hipothesis  1 - player assumes that receiver is rich.... ore assumes it has the same wealth.\n",
    "    if matrix and [Wi,Li,Si,Sj] in matrix.X_unique[:,:4].tolist(): # If the oplicy is not in sigma, then it returns a greedy policy\n",
    "        return get_di(results.sigma, matrix.X_unique, [Wi,Li,Si,Sj] , matrix.D_unique)\n",
    "    elif Si == s_nc :\n",
    "        if expected_return_i(get_otherplayer(player), L_prime, W_bar) > 0:\n",
    "            return d_cor\n",
    "        else:\n",
    "            return d_not\n",
    "    elif (Si == s_cor or Si == s_des):\n",
    "        if expected_return_i(get_otherplayer(player), L_prime , W_bar) > 0:\n",
    "            return d_cor\n",
    "        elif (expected_return_i(get_otherplayer(player), L_prime, W_bar) > R*get_si(Li ,Si,Sj)):\n",
    "            return d_rep\n",
    "        else:\n",
    "            return 0\n",
    "    elif Si == s_det and beta > P:\n",
    "        return d_rep\n",
    "    else:\n",
    "        return 0\n",
    "\n",
    "#Defines the reduced Sj_space (Only reporting matters)\n",
    "        \n",
    "def get_Sj_prime(Si,di,dj,Si_prime):\n",
    "    if Si_prime in [s_nc , s_cor , s_des , s_det]:  # Agents go always together in these states, and they do not interfere in the number of feasible states.\n",
    "        return Si_prime\n",
    "    elif dj == d_rep and Si !=s_det:\n",
    "        return s_sr\n",
    "    elif dj == d_rep and Si == s_det :\n",
    "        return s_pg\n",
    "    elif dj == d_not and Si_prime in [s_con , s_acq]:\n",
    "        return Si_prime\n",
    "    elif dj in [d_not, d_cor] and di == d_rep:\n",
    "        return s_con\n",
    "    else:\n",
    "        return 0"
   ]
  },
  {
   "cell_type": "code",
   "execution_count": null,
   "metadata": {
    "id": "M9clWFV2GClh"
   },
   "outputs": [],
   "source": []
  },
  {
   "cell_type": "markdown",
   "metadata": {
    "id": "L4afs-zIGCli"
   },
   "source": [
    "#### Only Feasible State-Action pairs\n",
    "\n",
    "One can reduce the number of state-acion space to only allowed movements in possible states, so the matrices decrease in dimension.\n",
    "\n",
    "* Let $XD$ be the set of only feasible state-action pairs; and\n",
    "\n",
    "* $X$ are the state columns from the matrix and $D$ the action columns.\n",
    "\n",
    "For instance in this exammple, the following rules apply for the states: \n",
    "Importantly, the order matters!\n",
    "\n",
    "1 - It is not possible to pay a bribe if you are not in the no corruption, corruption or desisted state of the world ;\n",
    "\n",
    "2 - There are budget constraints. Or else, It is not possible to pay a bribe without funds;\n",
    "\n",
    "3 - If agent succeded in bribing, state $W$ will be at least $y_t$:\n",
    "\n",
    "4 - If agents are detected their wealth is going to be at most $\\overline{W} - \\phi - s$\n",
    "\n",
    "5 - Agents can only save upt to their wealth at the time;\n",
    "\n",
    "6 - Agents cannot falselly report a crime;\n",
    "\n",
    "7 - The state of the world for each player depends on the other player;\n",
    "\n",
    "8 - In the state s_cor, Liability must be at least 1 or If agents go back to no corruption then there is no liability. Also. if detected, liabiliy state is at least one;\n",
    "\n",
    "9 - The other player's decision must be feasible to the current player decision;\n",
    "\n",
    "10 - ;\n",
    "\n",
    "\n",
    "\n",
    "\n",
    "\n",
    "PS: In the state transition it is necessary to impose limits to the transitions to maintain the system inside of the boundaries of feasible states. Or else, the sistem transiton cannot lead to state outside the state space. Here, we are excluding state and action pairs that would never be possible to achieve.\n"
   ]
  },
  {
   "cell_type": "code",
   "execution_count": 21,
   "metadata": {
    "id": "4Jle85UgGCli"
   },
   "outputs": [],
   "source": [
    "\n",
    "#Feasibility rules (f_rules):\n",
    "\n",
    "#################################################################################################\n",
    "#########################    TO DO.... TRY SUBSTITUTING THE RULES BY SIMPLER RULE - > STATE OR ACTION IS FEASIBLE FROM PARAMETERS\n",
    "##########################################################################################################\n",
    "\n",
    "def f_rule_1(Si,di,dj):\n",
    "    '''It is not possible to pay a bribe if you are not in the no corruption, corruption or desisted state of the world'''\n",
    "    if Si in [s_det, s_con,s_acq,s_sr,s_pg] and (di == 1 or dj == 1):\n",
    "        return False\n",
    "    else:\n",
    "        return True\n",
    "\n",
    "def f_rule_2(Wi,di,dj):\n",
    "    '''There are budget constraints. Or else, It is not possible to pay a bribe without funds'''\n",
    "    if Wi < get_phi_i(player,di,dj):\n",
    "        return False\n",
    "    else:\n",
    "        return True\n",
    "\n",
    "def f_rule_3(Wi, Si):\n",
    "    '''If agent succeded in bribing, state $W$ will be at least $y_t$:''' \n",
    "    if Si == s_cor and Wi < get_pi_i(player,s_cor):\n",
    "        return False\n",
    "    else:\n",
    "        return True\n",
    "    \n",
    "def f_rule_4(Wi,Li,Si,Sj):\n",
    "    '''If agents are convicted or they plea or self report their wealth is going to be at most $\\overline{W} - S(s_i) $'''\n",
    "    if get_Wi_prime(player, W_bar, Li, Si, Sj) > W_bar:\n",
    "        return False\n",
    "    else:\n",
    "        return True\n",
    "\n",
    "def f_rule_5(Wi,wi,di,dj):\n",
    "    '''Agents can only save upt to their wealth at the time;'''\n",
    "    if wi > Wi - get_phi_i(player , di , dj):\n",
    "        return False\n",
    "    else:\n",
    "        return True\n",
    "    \n",
    "def f_rule_6(Si,di,dj):\n",
    "    '''Agents cannot falselly report a crime'''\n",
    "    if Si == s_nc and (di == 2 or dj == 2):\n",
    "        return False\n",
    "    else:\n",
    "        return True\n",
    "\n",
    "def f_rule_7(Si,Sj):\n",
    "    ''' Sj is feasible from Si'''\n",
    "    if (Si in [s_nc , s_cor, s_des, s_det ,s_acq] and (Si != Sj)) \\\n",
    "    or (Si== s_con and Sj not in[s_con, s_sr, s_pg]) \\\n",
    "    or (Sj== s_con and Si not in[s_con, s_sr, s_pg])\\\n",
    "    or (Si == s_sr and Sj == s_pg) \\\n",
    "    or (Si == s_pg and Sj == s_sr):\n",
    "        return False\n",
    "    else:\n",
    "        return True\n",
    "    \n",
    "def f_rule_8(Si,Li):\n",
    "    ''' Minimum Li and maximum Li depending on states'''\n",
    "    if (Si == s_cor and Li < 1) or (Si == s_nc and Li != 0) :\n",
    "        return False\n",
    "    else:\n",
    "        return True\n",
    "    \n",
    "def f_rule_9(Wi,Li,Si,Sj,dj,di):\n",
    "    ''' dj is feasible'''\n",
    "    if dj != get_dj(player, Si, get_Li_prime(Li , di, dj, s_cor),Wi,Li,Sj): # Complex rationale\n",
    "        return False\n",
    "    else:\n",
    "        return True\n",
    "    \n",
    "def f_rule_10(Si, di, dj):\n",
    "    ''' In these states, agents cannot do anything'''\n",
    "    if  (Si== s_acq or Si==s_con or Si== s_sr or Si==s_pg) and (di != 0 or dj != 0):\n",
    "        return False\n",
    "    else:\n",
    "        return True\n",
    "\n",
    "\n",
    "def apply_fesibility_rules(Wi,Li,Si,Sj,dj,di,wi):\n",
    "    if f_rule_1(Si,di,dj) and f_rule_2(Wi,di,dj) and f_rule_3(Wi, Si) and f_rule_4(Wi,Li,Si,Sj) \\\n",
    "        and f_rule_5(Wi,wi,di,dj) and f_rule_6(Si,di,dj) and f_rule_7(Si,Sj) and f_rule_8(Si,Li) \\\n",
    "            and f_rule_9(Wi,Li,Si,Sj,dj,di) and f_rule_10(Si, di, dj):\n",
    "        return True\n",
    "    else:\n",
    "        return False"
   ]
  },
  {
   "cell_type": "code",
   "execution_count": null,
   "metadata": {
    "id": "wEKQODC8GCli"
   },
   "outputs": [],
   "source": []
  },
  {
   "cell_type": "code",
   "execution_count": 22,
   "metadata": {
    "id": "iILdKmnLGCli"
   },
   "outputs": [],
   "source": [
    "#Build the X and D space:\n",
    "\n",
    "def get_feasible_spaces():\n",
    "    XD = [] #creat the vector of the state action pair\n",
    "    for Wi in W_space:\n",
    "        for Li in L_space:\n",
    "            for Si in S_space:\n",
    "                for Sj in S_space:\n",
    "                    for di in d_space:\n",
    "                        for wi in w_space:\n",
    "                            for dj in d_space:\n",
    "                                if apply_fesibility_rules(Wi,Li,Si,Sj,dj,di,wi):\n",
    "                                    XD.append([Wi,Li,Si,Sj,dj,di,wi])\n",
    "\n",
    "    XD = np.asarray(XD)\n",
    "    return XD "
   ]
  },
  {
   "cell_type": "code",
   "execution_count": null,
   "metadata": {
    "id": "amzPzhbCGClj"
   },
   "outputs": [],
   "source": []
  },
  {
   "cell_type": "code",
   "execution_count": null,
   "metadata": {
    "id": "4TdM8TryGClj"
   },
   "outputs": [],
   "source": []
  },
  {
   "cell_type": "code",
   "execution_count": 23,
   "metadata": {
    "id": "DELcbp76GClj"
   },
   "outputs": [],
   "source": [
    "#Calculating the indices\n",
    "#Indices are the maps unique actions and states\n",
    "\n",
    "def get_uniques(XD):\n",
    "    X_unique, indices = np.unique(XD[:,:5], axis=0, return_index=True) #new X space, only with unique feasible states\n",
    "    X_unique = X_unique[np.argsort(indices)] #return unique elements and maintain the original order   \n",
    "    D_unique, indices = np.unique(XD[:,5:], axis=0, return_index=True) #new X space, only with unique feasible states\n",
    "    D_unique = D_unique[np.argsort(indices)] #return unique elements and maintain the original order\n",
    "    return X_unique ,D_unique\n",
    "\n",
    "\n",
    "def extracting_indexes(X_unique,D_unique,XD):\n",
    "    D_indices = []\n",
    "    X_indices = []\n",
    "    for i in range(len(XD)):\n",
    "        D_indices.append(np.where(np.all(D_unique == XD[i][5:],axis=1))[0][0])\n",
    "        X_indices.append(np.where(np.all(X_unique == XD[i][:5],axis=1))[0][0])\n",
    "\n",
    "    D_indices = np.asarray(D_indices)\n",
    "    X_indices = np.asarray(X_indices)\n",
    "\n",
    "    return D_indices , X_indices\n"
   ]
  },
  {
   "cell_type": "code",
   "execution_count": null,
   "metadata": {
    "id": "B-59ckxFGClj"
   },
   "outputs": [],
   "source": [
    "\n"
   ]
  },
  {
   "cell_type": "markdown",
   "metadata": {
    "id": "-ccvQKAeGClj"
   },
   "source": [
    "\n",
    "### Generating the reward vector \n",
    "\n",
    "Each player has a reward vector $\\textbf{R}$, such that:\n",
    "\n",
    "\\begin{equation*}\n",
    "\t\\mathbf{R} \\equiv\n",
    "\t\\begin{bmatrix}\n",
    "\t\tR_{i} \\\\\n",
    "\t\tR_{j} \n",
    "\t\\end{bmatrix}\n",
    "\\end{equation*}\n",
    "\n",
    "$R_i(x,d)$, of dimension $n$, where $n$ is the number of unique state-action pairs:\n",
    "\n",
    "$$R_i(\\textbf{x},\\textbf{d}) =  \\begin{bmatrix}\n",
    "u_{i,0}(c_{x_0,d_0})\\\\\n",
    "\\vdots \\\\\n",
    "u_{i,n}(c_{x_n,d_n}) \\end{bmatrix}$$\n",
    "\n",
    "where $u_{i}(\\textbf{x},\\textbf{d})$ are the rewards from the state and control pair, where $i \\in [payer,receiver]$ and $j \\in [0,n]$."
   ]
  },
  {
   "cell_type": "code",
   "execution_count": 24,
   "metadata": {
    "id": "2lXSF0H2GClk"
   },
   "outputs": [],
   "source": [
    "# Calculating R for the payer:\n",
    "\n",
    "def populate_Ri(XD):\n",
    "    Ri = []\n",
    "    for i in range(len(XD)):\n",
    "        Ri.append(u(get_ci(XD[i][0],XD[i][6],get_phi_i(player, XD[i][5],XD[i][4]))))\n",
    "    return Ri\n",
    "\n"
   ]
  },
  {
   "cell_type": "code",
   "execution_count": null,
   "metadata": {
    "id": "KU9-9rJgGClk"
   },
   "outputs": [],
   "source": []
  },
  {
   "cell_type": "markdown",
   "metadata": {
    "id": "59FHQrl-GClk"
   },
   "source": [
    "The transition matrix $\\Omega(\\textbf{x},\\textbf{u},\\textbf{x}')$, of dimension $n \\times m $, can be calculated by:\n",
    "\n",
    "$\\Omega(\\textbf{x},\\textbf{u},) = \\begin{bmatrix}\n",
    " \\begin{bmatrix}\n",
    "p(x_0'|x_0,d_0) \\\\\n",
    "\\vdots\\\\\n",
    "p(x_0'|x_n,d_n) \\end{bmatrix} \\\\\n",
    "\\vdots \\\\\n",
    "\\begin{bmatrix}\n",
    "p(x_m'|x_0,d_0)\\\\\n",
    "\\vdots\\\\\n",
    "p(x_m'|x_n,d_n)  \\end{bmatrix} \\end{bmatrix}$"
   ]
  },
  {
   "cell_type": "code",
   "execution_count": 25,
   "metadata": {
    "id": "9n3zE4AAGClk"
   },
   "outputs": [],
   "source": [
    "\n",
    "\n",
    "# Must enter an elif statement to each valid probability to each feasible state:\n",
    "# Each i-row in XD leads to X' with some probability p(X'):\n",
    "# Some i-rows leads to more than one X' with probability p(X') < 1:\n",
    "\n",
    "\n",
    "def find_X_unique_index(i,Si_prime, Sj_prime, X_unique, D_unique, XD):\n",
    "    Li_prime = get_Li_prime(XD[i][1],XD[i][5],XD[i][4],Si_prime)           \n",
    "    Wi_prime = get_Wi_prime(player, XD[i][6],Li_prime , Si_prime, Sj_prime)\n",
    "    dj_prime = get_dj(player, Si_prime, Li_prime,Wi_prime,Li_prime,Sj_prime)\n",
    "    loc_X_unique =  np.array([Wi_prime,Li_prime,Si_prime,Sj_prime,dj_prime])\n",
    "    X_unique_index = np.where(np.all(X_unique==loc_X_unique,axis=1))[0][0]\n",
    "    return X_unique_index\n",
    "\n",
    "def populate_Omega(XD, X_unique, D_unique):\n",
    "    Omega = np.zeros((len(XD),len(X_unique)))\n",
    "    try:\n",
    "        for i in range(len(XD)): # Positions are the columns in X = ([Wi,Li,Si,Sj,dj]), each mean a specific state in X or decision in D (note that dj is a state for player i)\n",
    "            for Si in get_Si_prime(XD[i][2],XD[i][5],XD[i][4]):\n",
    "                Si_prime = Si\n",
    "                Sj_prime = get_Sj_prime(XD[i][2],XD[i][5],XD[i][4],Si_prime)\n",
    "                X_unique_index = find_X_unique_index(i, Si_prime, Sj_prime, X_unique, D_unique, XD)\n",
    "                Omega[i , X_unique_index ]  = get_prob(Si_prime, Sj_prime )\n",
    "    except :\n",
    "        exeption_test(XD,i)\n",
    "        raise\n",
    "    return Omega\n"
   ]
  },
  {
   "cell_type": "code",
   "execution_count": null,
   "metadata": {
    "id": "lCmjPBqrGClk"
   },
   "outputs": [],
   "source": []
  },
  {
   "cell_type": "code",
   "execution_count": 26,
   "metadata": {
    "id": "BYyRUFzlGClk"
   },
   "outputs": [],
   "source": [
    "def get_di(sigma, X_unique, X, D_unique):\n",
    "    sigma_index = np.where(np.all(X_unique[:,:4] == X[:4] ,axis=1))[0][0]\n",
    "    d_index = sigma[sigma_index]\n",
    "    di = D_unique[d_index][0]\n",
    "    return di\n",
    "\n",
    "def get_wi(sigma, X_unique, X, D_unique):\n",
    "    sigma_index = np.where(np.all(X_unique[:,:4] == X[:4] ,axis=1))[0][0] \n",
    "    d_index = sigma[sigma_index]\n",
    "    wi = D_unique[d_index][1]\n",
    "    return wi"
   ]
  },
  {
   "cell_type": "markdown",
   "metadata": {
    "id": "Jz7QtzUxGCll"
   },
   "source": [
    "## Outer Algorithm to find Markovian Perfect Equilibrium\n",
    "\n",
    "1. Solve i's dynamic programming problem when j plays a greedy strategy as given;\n",
    "\n",
    "2. Use the optmal policy ($\\sigma_i$) from i to calculate j's optimal policy ($\\sigma_j$); and\n",
    "\n",
    "3. Compare the policies $|| \\sigma_i - \\sigma_j||$, if they are equal stop, otherwise go to step 2 alternating players. \n",
    "\n",
    "In other words, when players have no incentive to change their strategies given the other player's best responses, it is a Markov Perfect Equilibrium.\n",
    "\n",
    "\n",
    "\n",
    "\n",
    "\n"
   ]
  },
  {
   "cell_type": "markdown",
   "metadata": {
    "id": "fjXO9yksGCll"
   },
   "source": [
    "For the Outer Algo, we create a class that computes all the steps above.\n",
    "If we do not pass a policy $\\sigma$, the class returns the $R$ and $\\Omega$ matrices from a greedy 'other player' policy (as well as the state and action indices (X_indices and D_indices).\n",
    "However, if a policy $\\sigma$ is passed, than the best policy from 'other player' is calculated based in the policy."
   ]
  },
  {
   "cell_type": "code",
   "execution_count": 27,
   "metadata": {
    "id": "F3uAiO0vGCll"
   },
   "outputs": [],
   "source": [
    "class Matrices_Maker():\n",
    "    def __init__(self):\n",
    "        \"\"\"\n",
    "        Set up an instance to run the Quantecon routine of discrete dynamic programing.\n",
    "        \n",
    "        \"\"\"\n",
    "        self.XD = get_feasible_spaces()\n",
    "        self.X_unique ,self.D_unique = get_uniques(self.XD)\n",
    "        self.D_indices , self.X_indices = extracting_indexes(self.X_unique,self.D_unique,self.XD)\n",
    "        self.Ri = populate_Ri(self.XD)\n",
    "        self.Omega = populate_Omega(self.XD,self.X_unique,self.D_unique)\n"
   ]
  },
  {
   "cell_type": "code",
   "execution_count": 28,
   "metadata": {
    "id": "T7y4_zSxGCll"
   },
   "outputs": [],
   "source": [
    "def iterate_sigma(): # use variables in globals\n",
    "    ''' Iterates the markov function using a new sigma'''\n",
    "    matrix = Matrices_Maker()\n",
    "    ddp = qe.markov.DiscreteDP(matrix.Ri, matrix.Omega, gamma, matrix.X_indices, matrix.D_indices)\n",
    "    results = ddp.solve(method='policy_iteration')\n",
    "    return matrix, results\n"
   ]
  },
  {
   "cell_type": "code",
   "execution_count": 29,
   "metadata": {
    "id": "PJqgl1LqGCll"
   },
   "outputs": [],
   "source": [
    "def change_Matrix_Results(M,R):\n",
    "    global matrix, results\n",
    "    matrix, results = M , R\n",
    "#    plot_path_to_steady_state(M,R,W_bar, 50)\n",
    "#    vec1 =  get_heatmap_vec_pre(R.sigma, M.X_unique, M.D_unique)\n",
    "#    vec2 =  get_heatmap_vec_post(R.sigma, M.X_unique, M.D_unique)\n",
    "#    plot_heatmap(vec1,vec2)\n",
    "#    histogram_stationary(R,M)\n",
    "    \n",
    "def change_global_player():\n",
    "    global player\n",
    "    player = get_otherplayer(player)\n",
    "\n",
    "def create_matrix_results_2(M,R):\n",
    "    global matrix_2,results_2\n",
    "    matrix_2, results_2 = M,R\n",
    "\n",
    "def outer_opearator():\n",
    "    M, R = iterate_sigma()\n",
    "    change_Matrix_Results(M,R)\n",
    "    i = 1\n",
    "    max_it = 10\n",
    "    while i < max_it:\n",
    "        results_1 = results\n",
    "        change_global_player()\n",
    "        create_matrix_results_2(M,R)\n",
    "        M, R = iterate_sigma()\n",
    "        change_Matrix_Results(M,R)\n",
    "        results_2 = results\n",
    "        change_global_player()\n",
    "        create_matrix_results_2(M,R)\n",
    "        M, R = iterate_sigma()\n",
    "        change_Matrix_Results(M,R)\n",
    "        results_3 = results\n",
    "        i += 1\n",
    "        if results_1.sigma.shape == results_3.sigma.shape :\n",
    "            if (np.equal(results_1.sigma,results_3.sigma)).all():\n",
    "                print('Success after {} iterations'.format(i-1))\n",
    "                break\n",
    "        change_global_player()\n",
    "        create_matrix_results_2(M,R)\n",
    "        M, R = iterate_sigma()\n",
    "        change_Matrix_Results(M,R)\n",
    "        results_4 = results\n",
    "        if results_2.sigma.shape == results_4.sigma.shape :\n",
    "            if (np.equal(results_2.sigma,results_4.sigma)).all():\n",
    "                print('Success after {} iterations(Receiv)'.format(i-1))\n",
    "                break\n",
    "        change_global_player()\n",
    "        create_matrix_results_2(M,R)\n",
    "        M, R = iterate_sigma()\n",
    "        change_Matrix_Results(M,R)\n",
    "        results_5 = results\n",
    "        i += 1\n",
    "        if results_1.sigma.shape == results_5.sigma.shape :\n",
    "            if (np.equal(results_1.sigma,results_5.sigma)).all():\n",
    "                print('No convergence. Started alternating after {} iterations'.format(i-1))\n",
    "                break\n",
    "        if results_3.sigma.shape == results_5.sigma.shape :\n",
    "            if (np.equal(results_3.sigma,results_5.sigma)).all():\n",
    "                print('Converged. Started after {} iterations'.format(i-1))\n",
    "                break\n",
    "        change_global_player()\n",
    "        create_matrix_results_2(M,R)\n",
    "        M, R = iterate_sigma()\n",
    "        change_Matrix_Results(M,R)\n",
    "        results_6 = results\n",
    "        change_global_player()\n",
    "        create_matrix_results_2(M,R)\n",
    "        M, R = iterate_sigma()\n",
    "        change_Matrix_Results(M,R)\n",
    "        results_7 = results\n",
    "        i += 1\n",
    "        if results_1.sigma.shape == results_7.sigma.shape :\n",
    "            if (np.equal(results_1.sigma,results_7.sigma)).all():\n",
    "                print('No convergence. Started alternating with the first strategy after {} iterations'.format(i-1))\n",
    "                break\n",
    "        if results_3.sigma.shape == results_7.sigma.shape :\n",
    "            if (np.equal(results_3.sigma,results_7.sigma)).all():\n",
    "                print('No convergence. Started alternating after {} iterations'.format(i-1))\n",
    "                break\n",
    "        if results_5.sigma.shape == results_7.sigma.shape :\n",
    "            if (np.equal(results_5.sigma,results_7.sigma)).all():\n",
    "                print('Converged. Started after {} iterations'.format(i-1))\n",
    "                break\n",
    "        print('Finish without convergence at the {} iteration'.format(i))"
   ]
  },
  {
   "cell_type": "markdown",
   "metadata": {
    "id": "AgLssJ-_GClm"
   },
   "source": [
    "# Running the program"
   ]
  },
  {
   "cell_type": "code",
   "execution_count": 167,
   "metadata": {
    "id": "l_AZduVqGClm"
   },
   "outputs": [],
   "source": [
    "# Setting the constants in globals\n",
    "#fixing random seed for reproducibility\n",
    "\n",
    "player = 'payer'\n",
    "matrix = False\n",
    "b = 2 # Bribe\n",
    "a = 4 # Advantage From Corruption\n",
    "c_b = 0 # Cost of Corrutpion for the receiver\n",
    "f = 4 # Fine for corruption\n",
    "alpha = 0.1 # Probability of detection from authorities\n",
    "beta = 0.5 # Probability of judicial conviction\n",
    "ir = 0.05 # Interest Rates\n",
    "delta = 0.1 # Liability Depreciation -> embeded in the desisting rule and in the Maximum Liability\n",
    "gamma = 0.975 # Time discount\n",
    "eta = 0.9 # Risk Aversion\n",
    "y0 = 0 # Non-financial income\n",
    "yl = b # living wage\n",
    "R = 0\n",
    "r = 0.5\n",
    "P = 0.5\n",
    "p = 0.8\n",
    "#increasing problems dimension\n",
    "W_bar = 30\n",
    "L_bar = 5\n",
    "W_space = np.arange(0,W_bar+1)\n",
    "L_space = np.arange(0,L_bar+1)\n",
    "w_space =  np.arange(0,W_bar+1)\n"
   ]
  },
  {
   "cell_type": "code",
   "execution_count": 168,
   "metadata": {
    "colab": {
     "base_uri": "https://localhost:8080/",
     "height": 288
    },
    "id": "aKwE9enyGClm",
    "outputId": "c79dde14-2c5a-4ef4-c305-09b245a8c762"
   },
   "outputs": [
    {
     "data": {
      "image/png": "[encoded data removed]",
      "text/plain": [
       "<Figure size 360x288 with 1 Axes>"
      ]
     },
     "metadata": {
      "needs_background": "light"
     },
     "output_type": "display_data"
    }
   ],
   "source": [
    "get_ICs()"
   ]
  },
  {
   "cell_type": "code",
   "execution_count": null,
   "metadata": {
    "id": "Y_SQuLrTGClm"
   },
   "outputs": [],
   "source": []
  },
  {
   "cell_type": "code",
   "execution_count": 169,
   "metadata": {
    "colab": {
     "base_uri": "https://localhost:8080/",
     "height": 288
    },
    "id": "S3CnzMcJGCln",
    "outputId": "f6f7cbea-9415-4772-be12-bc1c8885aa0c"
   },
   "outputs": [
    {
     "data": {
      "image/png": "[encoded data removed]",
      "text/plain": [
       "<Figure size 360x288 with 1 Axes>"
      ]
     },
     "metadata": {
      "needs_background": "light"
     },
     "output_type": "display_data"
    }
   ],
   "source": [
    "get_IC_star(R,P)"
   ]
  },
  {
   "cell_type": "code",
   "execution_count": 90,
   "metadata": {
    "colab": {
     "base_uri": "https://localhost:8080/",
     "height": 1000
    },
    "id": "kh4d9CQKGCln",
    "outputId": "e4dac536-6398-4a81-cb4a-6b3c2352a7c5"
   },
   "outputs": [
    {
     "ename": "KeyboardInterrupt",
     "evalue": "",
     "output_type": "error",
     "traceback": [
      "\u001b[1;31m---------------------------------------------------------------------------\u001b[0m",
      "\u001b[1;31mKeyboardInterrupt\u001b[0m                         Traceback (most recent call last)",
      "\u001b[1;32m<ipython-input-90-554fa05a949a>\u001b[0m in \u001b[0;36m<module>\u001b[1;34m\u001b[0m\n\u001b[0;32m      2\u001b[0m \u001b[1;33m\u001b[0m\u001b[0m\n\u001b[0;32m      3\u001b[0m \u001b[1;33m\u001b[0m\u001b[0m\n\u001b[1;32m----> 4\u001b[1;33m \u001b[0mouter_opearator\u001b[0m\u001b[1;33m(\u001b[0m\u001b[1;33m)\u001b[0m\u001b[1;33m\u001b[0m\u001b[1;33m\u001b[0m\u001b[0m\n\u001b[0m\u001b[0;32m      5\u001b[0m \u001b[1;33m\u001b[0m\u001b[0m\n\u001b[0;32m      6\u001b[0m \u001b[0mend_time\u001b[0m \u001b[1;33m=\u001b[0m \u001b[0mdatetime\u001b[0m\u001b[1;33m.\u001b[0m\u001b[0mnow\u001b[0m\u001b[1;33m(\u001b[0m\u001b[1;33m)\u001b[0m\u001b[1;33m\u001b[0m\u001b[1;33m\u001b[0m\u001b[0m\n",
      "\u001b[1;32m<ipython-input-29-619fea4b46f1>\u001b[0m in \u001b[0;36mouter_opearator\u001b[1;34m()\u001b[0m\n\u001b[0;32m     17\u001b[0m \u001b[1;33m\u001b[0m\u001b[0m\n\u001b[0;32m     18\u001b[0m \u001b[1;32mdef\u001b[0m \u001b[0mouter_opearator\u001b[0m\u001b[1;33m(\u001b[0m\u001b[1;33m)\u001b[0m\u001b[1;33m:\u001b[0m\u001b[1;33m\u001b[0m\u001b[1;33m\u001b[0m\u001b[0m\n\u001b[1;32m---> 19\u001b[1;33m     \u001b[0mM\u001b[0m\u001b[1;33m,\u001b[0m \u001b[0mR\u001b[0m \u001b[1;33m=\u001b[0m \u001b[0miterate_sigma\u001b[0m\u001b[1;33m(\u001b[0m\u001b[1;33m)\u001b[0m\u001b[1;33m\u001b[0m\u001b[1;33m\u001b[0m\u001b[0m\n\u001b[0m\u001b[0;32m     20\u001b[0m     \u001b[0mchange_Matrix_Results\u001b[0m\u001b[1;33m(\u001b[0m\u001b[0mM\u001b[0m\u001b[1;33m,\u001b[0m\u001b[0mR\u001b[0m\u001b[1;33m)\u001b[0m\u001b[1;33m\u001b[0m\u001b[1;33m\u001b[0m\u001b[0m\n\u001b[0;32m     21\u001b[0m     \u001b[0mi\u001b[0m \u001b[1;33m=\u001b[0m \u001b[1;36m1\u001b[0m\u001b[1;33m\u001b[0m\u001b[1;33m\u001b[0m\u001b[0m\n",
      "\u001b[1;32m<ipython-input-28-a39ba498d126>\u001b[0m in \u001b[0;36miterate_sigma\u001b[1;34m()\u001b[0m\n\u001b[0;32m      1\u001b[0m \u001b[1;32mdef\u001b[0m \u001b[0miterate_sigma\u001b[0m\u001b[1;33m(\u001b[0m\u001b[1;33m)\u001b[0m\u001b[1;33m:\u001b[0m \u001b[1;31m# use variables in globals\u001b[0m\u001b[1;33m\u001b[0m\u001b[1;33m\u001b[0m\u001b[0m\n\u001b[0;32m      2\u001b[0m     \u001b[1;34m''' Iterates the markov function using a new sigma'''\u001b[0m\u001b[1;33m\u001b[0m\u001b[1;33m\u001b[0m\u001b[0m\n\u001b[1;32m----> 3\u001b[1;33m     \u001b[0mmatrix\u001b[0m \u001b[1;33m=\u001b[0m \u001b[0mMatrices_Maker\u001b[0m\u001b[1;33m(\u001b[0m\u001b[1;33m)\u001b[0m\u001b[1;33m\u001b[0m\u001b[1;33m\u001b[0m\u001b[0m\n\u001b[0m\u001b[0;32m      4\u001b[0m     \u001b[0mddp\u001b[0m \u001b[1;33m=\u001b[0m \u001b[0mqe\u001b[0m\u001b[1;33m.\u001b[0m\u001b[0mmarkov\u001b[0m\u001b[1;33m.\u001b[0m\u001b[0mDiscreteDP\u001b[0m\u001b[1;33m(\u001b[0m\u001b[0mmatrix\u001b[0m\u001b[1;33m.\u001b[0m\u001b[0mRi\u001b[0m\u001b[1;33m,\u001b[0m \u001b[0mmatrix\u001b[0m\u001b[1;33m.\u001b[0m\u001b[0mOmega\u001b[0m\u001b[1;33m,\u001b[0m \u001b[0mgamma\u001b[0m\u001b[1;33m,\u001b[0m \u001b[0mmatrix\u001b[0m\u001b[1;33m.\u001b[0m\u001b[0mX_indices\u001b[0m\u001b[1;33m,\u001b[0m \u001b[0mmatrix\u001b[0m\u001b[1;33m.\u001b[0m\u001b[0mD_indices\u001b[0m\u001b[1;33m)\u001b[0m\u001b[1;33m\u001b[0m\u001b[1;33m\u001b[0m\u001b[0m\n\u001b[0;32m      5\u001b[0m     \u001b[0mresults\u001b[0m \u001b[1;33m=\u001b[0m \u001b[0mddp\u001b[0m\u001b[1;33m.\u001b[0m\u001b[0msolve\u001b[0m\u001b[1;33m(\u001b[0m\u001b[0mmethod\u001b[0m\u001b[1;33m=\u001b[0m\u001b[1;34m'policy_iteration'\u001b[0m\u001b[1;33m)\u001b[0m\u001b[1;33m\u001b[0m\u001b[1;33m\u001b[0m\u001b[0m\n",
      "\u001b[1;32m<ipython-input-27-c7c73657b50c>\u001b[0m in \u001b[0;36m__init__\u001b[1;34m(self)\u001b[0m\n\u001b[0;32m      5\u001b[0m \u001b[1;33m\u001b[0m\u001b[0m\n\u001b[0;32m      6\u001b[0m         \"\"\"\n\u001b[1;32m----> 7\u001b[1;33m         \u001b[0mself\u001b[0m\u001b[1;33m.\u001b[0m\u001b[0mXD\u001b[0m \u001b[1;33m=\u001b[0m \u001b[0mget_feasible_spaces\u001b[0m\u001b[1;33m(\u001b[0m\u001b[1;33m)\u001b[0m\u001b[1;33m\u001b[0m\u001b[1;33m\u001b[0m\u001b[0m\n\u001b[0m\u001b[0;32m      8\u001b[0m         \u001b[0mself\u001b[0m\u001b[1;33m.\u001b[0m\u001b[0mX_unique\u001b[0m \u001b[1;33m,\u001b[0m\u001b[0mself\u001b[0m\u001b[1;33m.\u001b[0m\u001b[0mD_unique\u001b[0m \u001b[1;33m=\u001b[0m \u001b[0mget_uniques\u001b[0m\u001b[1;33m(\u001b[0m\u001b[0mself\u001b[0m\u001b[1;33m.\u001b[0m\u001b[0mXD\u001b[0m\u001b[1;33m)\u001b[0m\u001b[1;33m\u001b[0m\u001b[1;33m\u001b[0m\u001b[0m\n\u001b[0;32m      9\u001b[0m         \u001b[0mself\u001b[0m\u001b[1;33m.\u001b[0m\u001b[0mD_indices\u001b[0m \u001b[1;33m,\u001b[0m \u001b[0mself\u001b[0m\u001b[1;33m.\u001b[0m\u001b[0mX_indices\u001b[0m \u001b[1;33m=\u001b[0m \u001b[0mextracting_indexes\u001b[0m\u001b[1;33m(\u001b[0m\u001b[0mself\u001b[0m\u001b[1;33m.\u001b[0m\u001b[0mX_unique\u001b[0m\u001b[1;33m,\u001b[0m\u001b[0mself\u001b[0m\u001b[1;33m.\u001b[0m\u001b[0mD_unique\u001b[0m\u001b[1;33m,\u001b[0m\u001b[0mself\u001b[0m\u001b[1;33m.\u001b[0m\u001b[0mXD\u001b[0m\u001b[1;33m)\u001b[0m\u001b[1;33m\u001b[0m\u001b[1;33m\u001b[0m\u001b[0m\n",
      "\u001b[1;32m<ipython-input-22-d7396f1ea9a0>\u001b[0m in \u001b[0;36mget_feasible_spaces\u001b[1;34m()\u001b[0m\n\u001b[0;32m     10\u001b[0m                         \u001b[1;32mfor\u001b[0m \u001b[0mwi\u001b[0m \u001b[1;32min\u001b[0m \u001b[0mw_space\u001b[0m\u001b[1;33m:\u001b[0m\u001b[1;33m\u001b[0m\u001b[1;33m\u001b[0m\u001b[0m\n\u001b[0;32m     11\u001b[0m                             \u001b[1;32mfor\u001b[0m \u001b[0mdj\u001b[0m \u001b[1;32min\u001b[0m \u001b[0md_space\u001b[0m\u001b[1;33m:\u001b[0m\u001b[1;33m\u001b[0m\u001b[1;33m\u001b[0m\u001b[0m\n\u001b[1;32m---> 12\u001b[1;33m                                 \u001b[1;32mif\u001b[0m \u001b[0mapply_fesibility_rules\u001b[0m\u001b[1;33m(\u001b[0m\u001b[0mWi\u001b[0m\u001b[1;33m,\u001b[0m\u001b[0mLi\u001b[0m\u001b[1;33m,\u001b[0m\u001b[0mSi\u001b[0m\u001b[1;33m,\u001b[0m\u001b[0mSj\u001b[0m\u001b[1;33m,\u001b[0m\u001b[0mdj\u001b[0m\u001b[1;33m,\u001b[0m\u001b[0mdi\u001b[0m\u001b[1;33m,\u001b[0m\u001b[0mwi\u001b[0m\u001b[1;33m)\u001b[0m\u001b[1;33m:\u001b[0m\u001b[1;33m\u001b[0m\u001b[1;33m\u001b[0m\u001b[0m\n\u001b[0m\u001b[0;32m     13\u001b[0m                                     \u001b[0mXD\u001b[0m\u001b[1;33m.\u001b[0m\u001b[0mappend\u001b[0m\u001b[1;33m(\u001b[0m\u001b[1;33m[\u001b[0m\u001b[0mWi\u001b[0m\u001b[1;33m,\u001b[0m\u001b[0mLi\u001b[0m\u001b[1;33m,\u001b[0m\u001b[0mSi\u001b[0m\u001b[1;33m,\u001b[0m\u001b[0mSj\u001b[0m\u001b[1;33m,\u001b[0m\u001b[0mdj\u001b[0m\u001b[1;33m,\u001b[0m\u001b[0mdi\u001b[0m\u001b[1;33m,\u001b[0m\u001b[0mwi\u001b[0m\u001b[1;33m]\u001b[0m\u001b[1;33m)\u001b[0m\u001b[1;33m\u001b[0m\u001b[1;33m\u001b[0m\u001b[0m\n\u001b[0;32m     14\u001b[0m \u001b[1;33m\u001b[0m\u001b[0m\n",
      "\u001b[1;32m<ipython-input-21-68addc9d47a6>\u001b[0m in \u001b[0;36mapply_fesibility_rules\u001b[1;34m(Wi, Li, Si, Sj, dj, di, wi)\u001b[0m\n\u001b[0;32m     81\u001b[0m \u001b[1;33m\u001b[0m\u001b[0m\n\u001b[0;32m     82\u001b[0m \u001b[1;32mdef\u001b[0m \u001b[0mapply_fesibility_rules\u001b[0m\u001b[1;33m(\u001b[0m\u001b[0mWi\u001b[0m\u001b[1;33m,\u001b[0m\u001b[0mLi\u001b[0m\u001b[1;33m,\u001b[0m\u001b[0mSi\u001b[0m\u001b[1;33m,\u001b[0m\u001b[0mSj\u001b[0m\u001b[1;33m,\u001b[0m\u001b[0mdj\u001b[0m\u001b[1;33m,\u001b[0m\u001b[0mdi\u001b[0m\u001b[1;33m,\u001b[0m\u001b[0mwi\u001b[0m\u001b[1;33m)\u001b[0m\u001b[1;33m:\u001b[0m\u001b[1;33m\u001b[0m\u001b[1;33m\u001b[0m\u001b[0m\n\u001b[1;32m---> 83\u001b[1;33m     \u001b[1;32mif\u001b[0m \u001b[0mf_rule_1\u001b[0m\u001b[1;33m(\u001b[0m\u001b[0mSi\u001b[0m\u001b[1;33m,\u001b[0m\u001b[0mdi\u001b[0m\u001b[1;33m,\u001b[0m\u001b[0mdj\u001b[0m\u001b[1;33m)\u001b[0m \u001b[1;32mand\u001b[0m \u001b[0mf_rule_2\u001b[0m\u001b[1;33m(\u001b[0m\u001b[0mWi\u001b[0m\u001b[1;33m,\u001b[0m\u001b[0mdi\u001b[0m\u001b[1;33m,\u001b[0m\u001b[0mdj\u001b[0m\u001b[1;33m)\u001b[0m \u001b[1;32mand\u001b[0m \u001b[0mf_rule_3\u001b[0m\u001b[1;33m(\u001b[0m\u001b[0mWi\u001b[0m\u001b[1;33m,\u001b[0m \u001b[0mSi\u001b[0m\u001b[1;33m)\u001b[0m \u001b[1;32mand\u001b[0m \u001b[0mf_rule_4\u001b[0m\u001b[1;33m(\u001b[0m\u001b[0mWi\u001b[0m\u001b[1;33m,\u001b[0m\u001b[0mLi\u001b[0m\u001b[1;33m,\u001b[0m\u001b[0mSi\u001b[0m\u001b[1;33m,\u001b[0m\u001b[0mSj\u001b[0m\u001b[1;33m)\u001b[0m\u001b[0;31m \u001b[0m\u001b[0;31m\\\u001b[0m\u001b[1;33m\u001b[0m\u001b[1;33m\u001b[0m\u001b[0m\n\u001b[0m\u001b[0;32m     84\u001b[0m         \u001b[1;32mand\u001b[0m \u001b[0mf_rule_5\u001b[0m\u001b[1;33m(\u001b[0m\u001b[0mWi\u001b[0m\u001b[1;33m,\u001b[0m\u001b[0mwi\u001b[0m\u001b[1;33m,\u001b[0m\u001b[0mdi\u001b[0m\u001b[1;33m,\u001b[0m\u001b[0mdj\u001b[0m\u001b[1;33m)\u001b[0m \u001b[1;32mand\u001b[0m \u001b[0mf_rule_6\u001b[0m\u001b[1;33m(\u001b[0m\u001b[0mSi\u001b[0m\u001b[1;33m,\u001b[0m\u001b[0mdi\u001b[0m\u001b[1;33m,\u001b[0m\u001b[0mdj\u001b[0m\u001b[1;33m)\u001b[0m \u001b[1;32mand\u001b[0m \u001b[0mf_rule_7\u001b[0m\u001b[1;33m(\u001b[0m\u001b[0mSi\u001b[0m\u001b[1;33m,\u001b[0m\u001b[0mSj\u001b[0m\u001b[1;33m)\u001b[0m \u001b[1;32mand\u001b[0m \u001b[0mf_rule_8\u001b[0m\u001b[1;33m(\u001b[0m\u001b[0mSi\u001b[0m\u001b[1;33m,\u001b[0m\u001b[0mLi\u001b[0m\u001b[1;33m)\u001b[0m\u001b[0;31m \u001b[0m\u001b[0;31m\\\u001b[0m\u001b[1;33m\u001b[0m\u001b[1;33m\u001b[0m\u001b[0m\n\u001b[0;32m     85\u001b[0m             \u001b[1;32mand\u001b[0m \u001b[0mf_rule_9\u001b[0m\u001b[1;33m(\u001b[0m\u001b[0mWi\u001b[0m\u001b[1;33m,\u001b[0m\u001b[0mLi\u001b[0m\u001b[1;33m,\u001b[0m\u001b[0mSi\u001b[0m\u001b[1;33m,\u001b[0m\u001b[0mSj\u001b[0m\u001b[1;33m,\u001b[0m\u001b[0mdj\u001b[0m\u001b[1;33m,\u001b[0m\u001b[0mdi\u001b[0m\u001b[1;33m)\u001b[0m \u001b[1;32mand\u001b[0m \u001b[0mf_rule_10\u001b[0m\u001b[1;33m(\u001b[0m\u001b[0mSi\u001b[0m\u001b[1;33m,\u001b[0m \u001b[0mdi\u001b[0m\u001b[1;33m,\u001b[0m \u001b[0mdj\u001b[0m\u001b[1;33m)\u001b[0m\u001b[1;33m:\u001b[0m\u001b[1;33m\u001b[0m\u001b[1;33m\u001b[0m\u001b[0m\n",
      "\u001b[1;32m<ipython-input-21-68addc9d47a6>\u001b[0m in \u001b[0;36mf_rule_4\u001b[1;34m(Wi, Li, Si, Sj)\u001b[0m\n\u001b[0;32m     28\u001b[0m \u001b[1;32mdef\u001b[0m \u001b[0mf_rule_4\u001b[0m\u001b[1;33m(\u001b[0m\u001b[0mWi\u001b[0m\u001b[1;33m,\u001b[0m\u001b[0mLi\u001b[0m\u001b[1;33m,\u001b[0m\u001b[0mSi\u001b[0m\u001b[1;33m,\u001b[0m\u001b[0mSj\u001b[0m\u001b[1;33m)\u001b[0m\u001b[1;33m:\u001b[0m\u001b[1;33m\u001b[0m\u001b[1;33m\u001b[0m\u001b[0m\n\u001b[0;32m     29\u001b[0m     \u001b[1;34m'''If agents are convicted or they plea or self report their wealth is going to be at most $\\overline{W} - S(s_i) $'''\u001b[0m\u001b[1;33m\u001b[0m\u001b[1;33m\u001b[0m\u001b[0m\n\u001b[1;32m---> 30\u001b[1;33m     \u001b[1;32mif\u001b[0m \u001b[0mget_Wi_prime\u001b[0m\u001b[1;33m(\u001b[0m\u001b[0mplayer\u001b[0m\u001b[1;33m,\u001b[0m \u001b[0mW_bar\u001b[0m\u001b[1;33m,\u001b[0m \u001b[0mLi\u001b[0m\u001b[1;33m,\u001b[0m \u001b[0mSi\u001b[0m\u001b[1;33m,\u001b[0m \u001b[0mSj\u001b[0m\u001b[1;33m)\u001b[0m \u001b[1;33m>\u001b[0m \u001b[0mW_bar\u001b[0m\u001b[1;33m:\u001b[0m\u001b[1;33m\u001b[0m\u001b[1;33m\u001b[0m\u001b[0m\n\u001b[0m\u001b[0;32m     31\u001b[0m         \u001b[1;32mreturn\u001b[0m \u001b[1;32mFalse\u001b[0m\u001b[1;33m\u001b[0m\u001b[1;33m\u001b[0m\u001b[0m\n\u001b[0;32m     32\u001b[0m     \u001b[1;32melse\u001b[0m\u001b[1;33m:\u001b[0m\u001b[1;33m\u001b[0m\u001b[1;33m\u001b[0m\u001b[0m\n",
      "\u001b[1;32m<ipython-input-14-ea4f5b769cfa>\u001b[0m in \u001b[0;36mget_Wi_prime\u001b[1;34m(player, wi, L_prime, Si_prime, Sj_prime)\u001b[0m\n\u001b[0;32m      2\u001b[0m \u001b[1;32mdef\u001b[0m \u001b[0mget_Wi_prime\u001b[0m\u001b[1;33m(\u001b[0m\u001b[0mplayer\u001b[0m\u001b[1;33m,\u001b[0m \u001b[0mwi\u001b[0m\u001b[1;33m,\u001b[0m \u001b[0mL_prime\u001b[0m\u001b[1;33m,\u001b[0m \u001b[0mSi_prime\u001b[0m\u001b[1;33m,\u001b[0m \u001b[0mSj_prime\u001b[0m\u001b[1;33m)\u001b[0m\u001b[1;33m:\u001b[0m\u001b[1;33m\u001b[0m\u001b[1;33m\u001b[0m\u001b[0m\n\u001b[0;32m      3\u001b[0m     \u001b[1;32mif\u001b[0m \u001b[0my0\u001b[0m \u001b[1;33m+\u001b[0m \u001b[0mget_yfi_prime\u001b[0m\u001b[1;33m(\u001b[0m\u001b[0mwi\u001b[0m\u001b[1;33m)\u001b[0m \u001b[1;33m+\u001b[0m \u001b[0mget_yfc_prime\u001b[0m\u001b[1;33m(\u001b[0m\u001b[0mplayer\u001b[0m\u001b[1;33m,\u001b[0m \u001b[0mL_prime\u001b[0m\u001b[1;33m,\u001b[0m \u001b[0mSi_prime\u001b[0m\u001b[1;33m,\u001b[0m \u001b[0mSj_prime\u001b[0m\u001b[1;33m)\u001b[0m \u001b[1;33m>\u001b[0m \u001b[0myl\u001b[0m\u001b[1;33m:\u001b[0m\u001b[1;33m\u001b[0m\u001b[1;33m\u001b[0m\u001b[0m\n\u001b[1;32m----> 4\u001b[1;33m         \u001b[1;32mif\u001b[0m \u001b[0my0\u001b[0m \u001b[1;33m+\u001b[0m \u001b[0mget_yfi_prime\u001b[0m\u001b[1;33m(\u001b[0m\u001b[0mwi\u001b[0m\u001b[1;33m)\u001b[0m \u001b[1;33m+\u001b[0m \u001b[0mget_yfc_prime\u001b[0m\u001b[1;33m(\u001b[0m\u001b[0mplayer\u001b[0m\u001b[1;33m,\u001b[0m \u001b[0mL_prime\u001b[0m\u001b[1;33m,\u001b[0m \u001b[0mSi_prime\u001b[0m\u001b[1;33m,\u001b[0m \u001b[0mSj_prime\u001b[0m\u001b[1;33m)\u001b[0m \u001b[1;33m<=\u001b[0m \u001b[0mW_bar\u001b[0m\u001b[1;33m:\u001b[0m\u001b[1;33m\u001b[0m\u001b[1;33m\u001b[0m\u001b[0m\n\u001b[0m\u001b[0;32m      5\u001b[0m             \u001b[1;32mreturn\u001b[0m \u001b[0mint\u001b[0m\u001b[1;33m(\u001b[0m\u001b[0mround\u001b[0m\u001b[1;33m(\u001b[0m\u001b[0my0\u001b[0m \u001b[1;33m+\u001b[0m \u001b[0mget_yfi_prime\u001b[0m\u001b[1;33m(\u001b[0m\u001b[0mwi\u001b[0m\u001b[1;33m)\u001b[0m \u001b[1;33m+\u001b[0m \u001b[0mget_yfc_prime\u001b[0m\u001b[1;33m(\u001b[0m\u001b[0mplayer\u001b[0m\u001b[1;33m,\u001b[0m \u001b[0mL_prime\u001b[0m\u001b[1;33m,\u001b[0m \u001b[0mSi_prime\u001b[0m\u001b[1;33m,\u001b[0m \u001b[0mSj_prime\u001b[0m\u001b[1;33m)\u001b[0m\u001b[1;33m)\u001b[0m\u001b[1;33m)\u001b[0m\u001b[1;33m\u001b[0m\u001b[1;33m\u001b[0m\u001b[0m\n\u001b[0;32m      6\u001b[0m         \u001b[1;32melse\u001b[0m\u001b[1;33m:\u001b[0m\u001b[1;33m\u001b[0m\u001b[1;33m\u001b[0m\u001b[0m\n",
      "\u001b[1;32m<ipython-input-12-a1317b9c3d1b>\u001b[0m in \u001b[0;36mget_yfc_prime\u001b[1;34m(player, L_prime, Si_prime, Sj_prime)\u001b[0m\n\u001b[0;32m      4\u001b[0m \u001b[1;33m\u001b[0m\u001b[0m\n\u001b[0;32m      5\u001b[0m \u001b[1;32mdef\u001b[0m \u001b[0mget_yfc_prime\u001b[0m\u001b[1;33m(\u001b[0m\u001b[0mplayer\u001b[0m\u001b[1;33m,\u001b[0m \u001b[0mL_prime\u001b[0m\u001b[1;33m,\u001b[0m \u001b[0mSi_prime\u001b[0m\u001b[1;33m,\u001b[0m \u001b[0mSj_prime\u001b[0m\u001b[1;33m)\u001b[0m\u001b[1;33m:\u001b[0m\u001b[1;33m\u001b[0m\u001b[1;33m\u001b[0m\u001b[0m\n\u001b[1;32m----> 6\u001b[1;33m     \u001b[1;32mreturn\u001b[0m \u001b[0mget_pi_i\u001b[0m\u001b[1;33m(\u001b[0m\u001b[0mplayer\u001b[0m\u001b[1;33m,\u001b[0m \u001b[0mSi_prime\u001b[0m\u001b[1;33m)\u001b[0m \u001b[1;33m-\u001b[0m \u001b[0mget_si\u001b[0m\u001b[1;33m(\u001b[0m\u001b[0mL_prime\u001b[0m\u001b[1;33m,\u001b[0m \u001b[0mSi_prime\u001b[0m\u001b[1;33m,\u001b[0m \u001b[0mSj_prime\u001b[0m\u001b[1;33m)\u001b[0m\u001b[1;33m\u001b[0m\u001b[1;33m\u001b[0m\u001b[0m\n\u001b[0m",
      "\u001b[1;32m<ipython-input-11-084fd539e446>\u001b[0m in \u001b[0;36mget_si\u001b[1;34m(Li, Si, Sj)\u001b[0m\n\u001b[0;32m     14\u001b[0m             \u001b[1;32mreturn\u001b[0m \u001b[0mp\u001b[0m\u001b[1;33m*\u001b[0m\u001b[0mf\u001b[0m\u001b[1;33m*\u001b[0m\u001b[0mLi\u001b[0m \u001b[1;33m+\u001b[0m \u001b[1;33m(\u001b[0m\u001b[0mget_pi_i\u001b[0m\u001b[1;33m(\u001b[0m\u001b[0mplayer\u001b[0m\u001b[1;33m,\u001b[0m\u001b[1;36m1\u001b[0m\u001b[1;33m)\u001b[0m\u001b[1;33m/\u001b[0m\u001b[1;33m(\u001b[0m\u001b[0mgamma\u001b[0m\u001b[1;33m**\u001b[0m\u001b[1;33m(\u001b[0m\u001b[0mLi\u001b[0m\u001b[1;33m*\u001b[0m\u001b[1;36m2\u001b[0m\u001b[1;33m)\u001b[0m\u001b[1;33m)\u001b[0m\u001b[1;33m)\u001b[0m\u001b[1;33m*\u001b[0m\u001b[1;33m(\u001b[0m\u001b[0mLi\u001b[0m\u001b[1;33m-\u001b[0m\u001b[1;36m1\u001b[0m\u001b[1;33m)\u001b[0m\u001b[1;33m\u001b[0m\u001b[1;33m\u001b[0m\u001b[0m\n\u001b[0;32m     15\u001b[0m         \u001b[1;32melse\u001b[0m\u001b[1;33m:\u001b[0m\u001b[1;33m\u001b[0m\u001b[1;33m\u001b[0m\u001b[0m\n\u001b[1;32m---> 16\u001b[1;33m             \u001b[1;32mreturn\u001b[0m \u001b[0mP\u001b[0m\u001b[1;33m*\u001b[0m\u001b[0mf\u001b[0m\u001b[1;33m*\u001b[0m\u001b[0mLi\u001b[0m \u001b[1;33m+\u001b[0m \u001b[1;33m(\u001b[0m\u001b[0mget_pi_i\u001b[0m\u001b[1;33m(\u001b[0m\u001b[0mplayer\u001b[0m\u001b[1;33m,\u001b[0m\u001b[1;36m1\u001b[0m\u001b[1;33m)\u001b[0m\u001b[1;33m/\u001b[0m\u001b[1;33m(\u001b[0m\u001b[0mgamma\u001b[0m\u001b[1;33m**\u001b[0m\u001b[1;33m(\u001b[0m\u001b[0mLi\u001b[0m\u001b[1;33m*\u001b[0m\u001b[1;36m2\u001b[0m\u001b[1;33m)\u001b[0m\u001b[1;33m)\u001b[0m\u001b[1;33m)\u001b[0m\u001b[1;33m*\u001b[0m\u001b[1;33m(\u001b[0m\u001b[0mLi\u001b[0m\u001b[1;33m-\u001b[0m\u001b[1;36m1\u001b[0m\u001b[1;33m)\u001b[0m\u001b[1;33m\u001b[0m\u001b[1;33m\u001b[0m\u001b[0m\n\u001b[0m\u001b[0;32m     17\u001b[0m     \u001b[1;32melse\u001b[0m\u001b[1;33m:\u001b[0m\u001b[1;33m\u001b[0m\u001b[1;33m\u001b[0m\u001b[0m\n\u001b[0;32m     18\u001b[0m         \u001b[1;32mreturn\u001b[0m \u001b[1;36m0\u001b[0m\u001b[1;33m\u001b[0m\u001b[1;33m\u001b[0m\u001b[0m\n",
      "\u001b[1;31mKeyboardInterrupt\u001b[0m: "
     ]
    }
   ],
   "source": [
    "start_time = datetime.now()\n",
    "\n",
    "\n",
    "outer_opearator()\n",
    "    \n",
    "end_time = datetime.now()\n",
    "\n",
    "print('Duration: {}'.format(end_time - start_time))"
   ]
  },
  {
   "cell_type": "markdown",
   "metadata": {
    "id": "4_Y_gvg9GCln"
   },
   "source": [
    "## Individual Results\n"
   ]
  },
  {
   "cell_type": "markdown",
   "metadata": {
    "id": "7sXpb9gdGCln"
   },
   "source": [
    "#### Plotting Corruption X Reporting heatmap"
   ]
  },
  {
   "cell_type": "code",
   "execution_count": null,
   "metadata": {
    "colab": {
     "base_uri": "https://localhost:8080/",
     "height": 865
    },
    "collapsed": true,
    "id": "LsWt-2wUGClo",
    "jupyter": {
     "outputs_hidden": true
    },
    "outputId": "a8102642-b94a-4738-e7bb-c55b1df08dc0"
   },
   "outputs": [
    {
     "data": {
      "image/png": "[encoded data removed]",
      "text/plain": [
       "<Figure size 720x432 with 2 Axes>"
      ]
     },
     "metadata": {
      "needs_background": "light"
     },
     "output_type": "display_data"
    },
    {
     "data": {
      "image/png": "[encoded data removed]",
      "text/plain": [
       "<Figure size 720x432 with 2 Axes>"
      ]
     },
     "metadata": {
      "needs_background": "light"
     },
     "output_type": "display_data"
    }
   ],
   "source": [
    "vec1 =  get_heatmap_vec_pre(results.sigma, matrix.X_unique, matrix.D_unique)\n",
    "vec2 =  get_heatmap_vec_post(results.sigma, matrix.X_unique, matrix.D_unique)\n",
    "plot_heatmap(vec1,vec2)\n",
    "player = get_otherplayer(player)\n",
    "vec1 =  get_heatmap_vec_pre(results_2.sigma, matrix_2.X_unique, matrix_2.D_unique)\n",
    "vec2 =  get_heatmap_vec_post(results_2.sigma, matrix_2.X_unique, matrix_2.D_unique)\n",
    "plot_heatmap(vec1,vec2)"
   ]
  },
  {
   "cell_type": "markdown",
   "metadata": {
    "id": "CeJL2ZJIGClo"
   },
   "source": [
    "#### Plotting Path to Steady State\n"
   ]
  },
  {
   "cell_type": "code",
   "execution_count": null,
   "metadata": {
    "colab": {
     "base_uri": "https://localhost:8080/",
     "height": 369
    },
    "collapsed": true,
    "id": "TlWhZqTYGClo",
    "jupyter": {
     "outputs_hidden": true,
     "source_hidden": true
    },
    "outputId": "01dddb40-f166-4e2f-a8b9-5ecd26704895"
   },
   "outputs": [
    {
     "data": {
      "image/png": "[encoded data removed]",
      "text/plain": [
       "<Figure size 720x360 with 4 Axes>"
      ]
     },
     "metadata": {
      "needs_background": "light"
     },
     "output_type": "display_data"
    }
   ],
   "source": [
    "\n",
    "plot_path_to_steady_state(matrix_2,results_2,50, 50)"
   ]
  },
  {
   "cell_type": "code",
   "execution_count": null,
   "metadata": {
    "colab": {
     "base_uri": "https://localhost:8080/",
     "height": 369
    },
    "collapsed": true,
    "id": "GDqamwP9GClo",
    "jupyter": {
     "outputs_hidden": true,
     "source_hidden": true
    },
    "outputId": "9ece128c-a395-4d97-ba42-327b4aff1d7d"
   },
   "outputs": [
    {
     "data": {
      "image/png": "[encoded data removed]",
      "text/plain": [
       "<Figure size 720x360 with 4 Axes>"
      ]
     },
     "metadata": {
      "needs_background": "light"
     },
     "output_type": "display_data"
    }
   ],
   "source": [
    "player = get_otherplayer(player)\n",
    "plot_path_to_steady_state(matrix,results,50, 50)"
   ]
  },
  {
   "cell_type": "markdown",
   "metadata": {
    "id": "A0hX8nYEGClo"
   },
   "source": [
    "#### Plotting the distribution of the steady state"
   ]
  },
  {
   "cell_type": "code",
   "execution_count": null,
   "metadata": {
    "colab": {
     "base_uri": "https://localhost:8080/",
     "height": 441
    },
    "collapsed": true,
    "id": "VpBZDIdQGClo",
    "jupyter": {
     "outputs_hidden": true,
     "source_hidden": true
    },
    "outputId": "cc3d2d77-bd50-4f69-fb7f-ace6d0690e6e"
   },
   "outputs": [
    {
     "data": {
      "image/png": "[encoded data removed]",
      "text/plain": [
       "<Figure size 720x432 with 2 Axes>"
      ]
     },
     "metadata": {
      "needs_background": "light"
     },
     "output_type": "display_data"
    }
   ],
   "source": [
    "player = get_otherplayer(player)\n",
    "histogram_stationary(results,matrix)"
   ]
  },
  {
   "cell_type": "code",
   "execution_count": null,
   "metadata": {
    "colab": {
     "base_uri": "https://localhost:8080/",
     "height": 441
    },
    "collapsed": true,
    "id": "vva0qrcaGClp",
    "jupyter": {
     "outputs_hidden": true,
     "source_hidden": true
    },
    "outputId": "3bef9728-4228-4a70-e995-ece331029e57"
   },
   "outputs": [
    {
     "data": {
      "image/png": "[encoded data removed]",
      "text/plain": [
       "<Figure size 720x432 with 2 Axes>"
      ]
     },
     "metadata": {
      "needs_background": "light"
     },
     "output_type": "display_data"
    }
   ],
   "source": [
    "player = get_otherplayer(player)\n",
    "histogram_stationary(results_2,matrix_2)"
   ]
  },
  {
   "cell_type": "markdown",
   "metadata": {
    "id": "Nzy-kOcyGClp",
    "jupyter": {
     "source_hidden": true
    }
   },
   "source": [
    "## Society Results\n",
    "\n",
    "The sampling method, Monte Carlo distribution estimation:\n",
    "\n",
    "\n",
    "1 - Estimate the best strategy to both players $sigma_{payer}$ and $sigma_{receiver}$\n",
    "\n",
    "2 - Assumes a distribution of the wealth in the economy (it is possible to differentiate richer from poorer countries).\n",
    "\n",
    "3 - From fixed initial state ($s_nc$) for 5 periods (Alternative way is to assume an ad hoc distribution from the initial states);\n",
    "\n",
    "4 - Keep the results and plot the distribution. \n",
    "\n"
   ]
  },
  {
   "cell_type": "code",
   "execution_count": null,
   "metadata": {
    "colab": {
     "base_uri": "https://localhost:8080/",
     "height": 1000
    },
    "collapsed": true,
    "id": "Col3c_Y3GClp",
    "jupyter": {
     "outputs_hidden": true,
     "source_hidden": true
    },
    "outputId": "c866a9cb-cf6a-4ae2-dce7-f8908692fdff"
   },
   "outputs": [
    {
     "name": "stdout",
     "output_type": "stream",
     "text": [
      "Benchmark\n"
     ]
    },
    {
     "data": {
      "image/png": "[encoded data removed]",
      "text/plain": [
       "<Figure size 720x432 with 2 Axes>"
      ]
     },
     "metadata": {
      "needs_background": "light"
     },
     "output_type": "display_data"
    },
    {
     "name": "stdout",
     "output_type": "stream",
     "text": [
      "Richer\n"
     ]
    },
    {
     "data": {
      "image/png": "[encoded data removed]",
      "text/plain": [
       "<Figure size 720x432 with 2 Axes>"
      ]
     },
     "metadata": {
      "needs_background": "light"
     },
     "output_type": "display_data"
    },
    {
     "name": "stdout",
     "output_type": "stream",
     "text": [
      "Poorer\n"
     ]
    },
    {
     "data": {
      "image/png": "[encoded data removed]",
      "text/plain": [
       "<Figure size 720x432 with 2 Axes>"
      ]
     },
     "metadata": {
      "needs_background": "light"
     },
     "output_type": "display_data"
    }
   ],
   "source": [
    "sample_1 =vector_sampler(200,5,matrix,matrix_2,results,results_2,0,1)\n",
    "print('Benchmark')\n",
    "histogram_sampling(sample_1, 'Normal')\n",
    "sample_2 =vector_sampler(200,5,matrix,matrix_2,results,results_2,W_bar/4,1)\n",
    "print('Richer')\n",
    "histogram_sampling(sample_2,'Richer')\n",
    "sample_3 =vector_sampler(200,5,matrix,matrix_2,results,results_2,-W_bar/4,1)\n",
    "print('Poorer')\n",
    "histogram_sampling(sample_3,'Poorer')"
   ]
  },
  {
   "cell_type": "code",
   "execution_count": null,
   "metadata": {
    "colab": {
     "base_uri": "https://localhost:8080/",
     "height": 693
    },
    "collapsed": true,
    "id": "y2t8GnzyGClp",
    "jupyter": {
     "outputs_hidden": true,
     "source_hidden": true
    },
    "outputId": "c6194606-ec22-4e53-fb65-b988941b3b92"
   },
   "outputs": [
    {
     "name": "stdout",
     "output_type": "stream",
     "text": [
      "Benchmark\n"
     ]
    },
    {
     "data": {
      "image/png": "[encoded data removed]",
      "text/plain": [
       "<Figure size 720x216 with 1 Axes>"
      ]
     },
     "metadata": {
      "needs_background": "light"
     },
     "output_type": "display_data"
    },
    {
     "name": "stdout",
     "output_type": "stream",
     "text": [
      "Richer\n"
     ]
    },
    {
     "data": {
      "image/png": "[encoded data removed]",
      "text/plain": [
       "<Figure size 720x216 with 1 Axes>"
      ]
     },
     "metadata": {
      "needs_background": "light"
     },
     "output_type": "display_data"
    },
    {
     "name": "stdout",
     "output_type": "stream",
     "text": [
      "Poorer\n"
     ]
    },
    {
     "data": {
      "image/png": "[encoded data removed]",
      "text/plain": [
       "<Figure size 720x216 with 1 Axes>"
      ]
     },
     "metadata": {
      "needs_background": "light"
     },
     "output_type": "display_data"
    }
   ],
   "source": [
    "print('Benchmark')\n",
    "histogram_sampling_savings(sample_1, 'Normal')\n",
    "print('Richer')\n",
    "histogram_sampling_savings(sample_2, 'Richer')\n",
    "print('Poorer')\n",
    "histogram_sampling_savings(sample_3, 'Poorer')"
   ]
  },
  {
   "cell_type": "markdown",
   "metadata": {
    "id": "mPE8wXG9GClp"
   },
   "source": [
    "# Conclusion\n",
    "\n",
    "* As it was supposed to happen, the players pay bribes untill that their utility from current wealth is lower than the expected walth gained from corrupion.\n",
    "\n",
    "* After this, they stop colluding at their wealth level.\n"
   ]
  },
  {
   "cell_type": "markdown",
   "metadata": {
    "id": "hOHLwHnHGClq"
   },
   "source": [
    "# Further Studies\n",
    "\n",
    "Set the problem for a complete game to run in a super-computer\n"
   ]
  },
  {
   "cell_type": "markdown",
   "metadata": {
    "id": "7Irh7Y5PGClq"
   },
   "source": [
    "# Refactioring Notes\n",
    "\n",
    "1) The operators iterate the parameters and variables as global variables. Put the inside functions or objects;\n",
    "\n",
    "2) Fix the player variable;\n",
    "\n",
    "3) Simplify the feasibility rules;\n",
    "\n",
    "4) Make sanctions only function of states. "
   ]
  },
  {
   "cell_type": "code",
   "execution_count": null,
   "metadata": {
    "colab": {
     "base_uri": "https://localhost:8080/",
     "height": 1000
    },
    "id": "sNDIcoUQGClq",
    "outputId": "5671d55e-fac1-4239-ca52-637562d7eeda"
   },
   "outputs": [],
   "source": [
    "# start_time = datetime.now()\n",
    "\n",
    "# alphas = [0.1,0.1,0.1,0.1,0.2,0.2,0.2,0.2,0.3,0.3,0.3,0.3]\n",
    "# betas = [0.6,0.7,0.8,0.9,0.6,0.7,0.8,0.9,0.6,0.7,0.8,0.9]\n",
    "\n",
    "# for i,j in zip(alphas,betas):\n",
    "#     print('NEW ITERATION WITH ALPHA {} AND BETA {}'.format(i,j))\n",
    "#     matrix = False\n",
    "#     player = 'payer'\n",
    "#     alpha = i\n",
    "#     beta = j\n",
    "#     outer_opearator()\n",
    "#     vec1 =  get_heatmap_vec_pre(results.sigma, matrix.X_unique, matrix.D_unique)\n",
    "#     vec2 =  get_heatmap_vec_post(results.sigma, matrix.X_unique, matrix.D_unique)\n",
    "#     plot_heatmap(vec1,vec2)\n",
    "#     player = get_otherplayer(player)\n",
    "#     vec1 =  get_heatmap_vec_pre(results_2.sigma, matrix_2.X_unique, matrix_2.D_unique)\n",
    "#     vec2 =  get_heatmap_vec_post(results_2.sigma, matrix_2.X_unique, matrix_2.D_unique)\n",
    "#     plot_heatmap(vec1,vec2)\n",
    "#     player = get_otherplayer(player)\n",
    "#     plot_path_to_steady_state(matrix,results,50, 50)\n",
    "#     player = get_otherplayer(player)\n",
    "#     plot_path_to_steady_state(matrix_2,results_2,50, 50)\n",
    "#     player = get_otherplayer(player)\n",
    "#     histogram_stationary(results,matrix)\n",
    "#     player = get_otherplayer(player)\n",
    "#     histogram_stationary(results_2,matrix_2)\n",
    "#     histogram_stationary(results_2,matrix_2)\n",
    "#     sample_1 =vector_sampler(200,5,matrix,matrix_2,results,results_2,0,1)\n",
    "#     print('Benchmark')\n",
    "#     histogram_sampling(sample_1, 'Normal')\n",
    "#     sample_2 =vector_sampler(200,5,matrix,matrix_2,results,results_2,W_bar/4,1)\n",
    "#     print('Richer')\n",
    "#     histogram_sampling(sample_2,'Richer')\n",
    "#     sample_3 =vector_sampler(200,5,matrix,matrix_2,results,results_2,-W_bar/4,1)\n",
    "#     print('Poorer')\n",
    "#     histogram_sampling(sample_3,'Poorer')\n",
    "#     print('Benchmark')\n",
    "#     histogram_sampling_savings(sample_1, 'Normal')\n",
    "#     print('Richer')\n",
    "#     histogram_sampling_savings(sample_2, 'Richer')\n",
    "#     print('Poorer')\n",
    "#     histogram_sampling_savings(sample_3, 'Poorer')\n",
    "\n",
    "# end_time = datetime.now()\n",
    "# print('Duration: {}'.format(end_time - start_time))"
   ]
  },
  {
   "cell_type": "code",
   "execution_count": null,
   "metadata": {
    "colab": {
     "base_uri": "https://localhost:8080/",
     "height": 1000
    },
    "id": "iW1rL_W6GClq",
    "outputId": "c5036f1b-8eda-4b67-9069-8cdec2d80ecd"
   },
   "outputs": [],
   "source": [
    "\n",
    "# start_time = datetime.now()\n",
    "\n",
    "# alpha = 0.1\n",
    "# beta = 0.6\n",
    "\n",
    "\n",
    "# Rs =[1,0.5,0.2,0.2,0,0,-0.5, -1]\n",
    "# rs =[1,0.5,0.5,0.5,0.4,0.4,0, 0]\n",
    "# Ps =[1,0.5,0.6,0.5,0.6,0.5,0.5, 0]\n",
    "# ps =[1,0.5,0.9,0.7,0.9,0.7,0.6, 0.5]\n",
    "\n",
    "# for i,j,k,l in zip(Rs,rs,Ps,ps):\n",
    "#     print('NEW ITERATION WITH R =  {}, r = {}, P = {} and p = {}'.format(i,j,k,l))\n",
    "#     matrix = False\n",
    "#     player = 'payer'\n",
    "#     R = i\n",
    "#     r = j\n",
    "#     P = k\n",
    "#     p = l\n",
    "#     get_IC_star(R,P)\n",
    "#     outer_opearator()\n",
    "#     vec1 =  get_heatmap_vec_pre(results.sigma, matrix.X_unique, matrix.D_unique)\n",
    "#     vec2 =  get_heatmap_vec_post(results.sigma, matrix.X_unique, matrix.D_unique)\n",
    "#     plot_heatmap(vec1,vec2)\n",
    "#     player = get_otherplayer(player)\n",
    "#     vec1 =  get_heatmap_vec_pre(results_2.sigma, matrix_2.X_unique, matrix_2.D_unique)\n",
    "#     vec2 =  get_heatmap_vec_post(results_2.sigma, matrix_2.X_unique, matrix_2.D_unique)\n",
    "#     plot_heatmap(vec1,vec2)\n",
    "#     player = get_otherplayer(player)\n",
    "#     plot_path_to_steady_state(matrix,results,50, 50)\n",
    "#     player = get_otherplayer(player)\n",
    "#     plot_path_to_steady_state(matrix_2,results_2,50, 50)\n",
    "#     player = get_otherplayer(player)\n",
    "#     histogram_stationary(results,matrix)\n",
    "#     player = get_otherplayer(player)\n",
    "#     histogram_stationary(results_2,matrix_2)\n",
    "#     histogram_stationary(results_2,matrix_2)\n",
    "#     sample_1 =vector_sampler(200,5,matrix,matrix_2,results,results_2,0,1)\n",
    "#     print('Benchmark')\n",
    "#     histogram_sampling(sample_1, 'Normal')\n",
    "#     sample_2 =vector_sampler(200,5,matrix,matrix_2,results,results_2,W_bar/4,1)\n",
    "#     print('Richer')\n",
    "#     histogram_sampling(sample_2,'Richer')\n",
    "#     sample_3 =vector_sampler(200,5,matrix,matrix_2,results,results_2,-W_bar/4,1)\n",
    "#     print('Poorer')\n",
    "#     histogram_sampling(sample_3,'Poorer')\n",
    "#     print('Benchmark')\n",
    "#     histogram_sampling_savings(sample_1, 'Normal')\n",
    "#     print('Richer')\n",
    "#     histogram_sampling_savings(sample_2, 'Richer')\n",
    "#     print('Poorer')\n",
    "#     histogram_sampling_savings(sample_3, 'Poorer')\n",
    "\n",
    "# end_time = datetime.now()\n",
    "# print('Duration: {}'.format(end_time - start_time))\n"
   ]
  },
  {
   "cell_type": "code",
   "execution_count": null,
   "metadata": {
    "colab": {
     "base_uri": "https://localhost:8080/",
     "height": 1000
    },
    "id": "bBSU27R5GClr",
    "outputId": "fb64c7b3-bc0d-496f-a65a-3f9177b67828"
   },
   "outputs": [],
   "source": [
    "\n",
    "# start_time = datetime.now()\n",
    "\n",
    "# R = 0.1\n",
    "# r = 0.5\n",
    "# P = 0.6\n",
    "# p = 0.9\n",
    "\n",
    "# irs = [0.02,0.05,0.1,0.16,0.2,0.3]\n",
    "\n",
    "# for i in irs:\n",
    "#     print('NEW ITERATION WITH Interests {}'.format(i))\n",
    "#     matrix = False\n",
    "#     player = 'payer'\n",
    "#     ir = i\n",
    "#     outer_opearator()\n",
    "#     vec1 =  get_heatmap_vec_pre(results.sigma, matrix.X_unique, matrix.D_unique)\n",
    "#     vec2 =  get_heatmap_vec_post(results.sigma, matrix.X_unique, matrix.D_unique)\n",
    "#     plot_heatmap(vec1,vec2)\n",
    "#     player = get_otherplayer(player)\n",
    "#     vec1 =  get_heatmap_vec_pre(results_2.sigma, matrix_2.X_unique, matrix_2.D_unique)\n",
    "#     vec2 =  get_heatmap_vec_post(results_2.sigma, matrix_2.X_unique, matrix_2.D_unique)\n",
    "#     plot_heatmap(vec1,vec2)\n",
    "#     player = get_otherplayer(player)\n",
    "#     plot_path_to_steady_state(matrix,results,50, 50)\n",
    "#     player = get_otherplayer(player)\n",
    "#     plot_path_to_steady_state(matrix_2,results_2,50, 50)\n",
    "#     player = get_otherplayer(player)\n",
    "#     histogram_stationary(results,matrix)\n",
    "#     player = get_otherplayer(player)\n",
    "#     histogram_stationary(results_2,matrix_2)\n",
    "#     histogram_stationary(results_2,matrix_2)\n",
    "#     sample_1 =vector_sampler(200,5,matrix,matrix_2,results,results_2,0,1)\n",
    "#     print('Benchmark')\n",
    "#     histogram_sampling(sample_1, 'Normal')\n",
    "#     sample_2 =vector_sampler(200,5,matrix,matrix_2,results,results_2,W_bar/4,1)\n",
    "#     print('Richer')\n",
    "#     histogram_sampling(sample_2,'Richer')\n",
    "#     sample_3 =vector_sampler(200,5,matrix,matrix_2,results,results_2,-W_bar/4,1)\n",
    "#     print('Poorer')\n",
    "#     histogram_sampling(sample_3,'Poorer')\n",
    "#     print('Benchmark')\n",
    "#     histogram_sampling_savings(sample_1, 'Normal')\n",
    "#     print('Richer')\n",
    "#     histogram_sampling_savings(sample_2, 'Richer')\n",
    "#     print('Poorer')\n",
    "#     histogram_sampling_savings(sample_3, 'Poorer')\n",
    "\n",
    "# end_time = datetime.now()\n",
    "# print('Duration: {}'.format(end_time - start_time))\n"
   ]
  },
  {
   "cell_type": "code",
   "execution_count": null,
   "metadata": {
    "colab": {
     "base_uri": "https://localhost:8080/",
     "height": 1000
    },
    "id": "iLRSc9MoGClr",
    "outputId": "b6f9d9bd-c74a-4dd2-940f-8452fb042137"
   },
   "outputs": [],
   "source": [
    "\n",
    "# start_time = datetime.now()\n",
    "\n",
    "# ir = 0.05\n",
    "\n",
    "\n",
    "# a =[2,4,3,5,6,6,10,15,20,8]\n",
    "# b =[1,1,2,3,3,4,5,10,12,2]\n",
    "# c_b =[0,0,0,1,1,1,5,2,0]\n",
    "# f =[2,4,3,5,6,6,10,15,20,8]\n",
    "\n",
    "# for i,j,k,l in zip(a,b,c_b,f):\n",
    "#     print('NEW ITERATION WITH a =  {}, b = {}, c_b = {} and f = {}'.format(i,j,k,l))\n",
    "#     matrix = False\n",
    "#     player = 'payer'\n",
    "#     a = i\n",
    "#     b = j\n",
    "#     c_b = k\n",
    "#     f = l\n",
    "#     get_IC_star(R,P)\n",
    "#     outer_opearator()\n",
    "#     print('RESULTS IN EQUILIBRIUM')\n",
    "#     vec1 =  get_heatmap_vec_pre(results.sigma, matrix.X_unique, matrix.D_unique)\n",
    "#     vec2 =  get_heatmap_vec_post(results.sigma, matrix.X_unique, matrix.D_unique)\n",
    "#     plot_heatmap(vec1,vec2)\n",
    "#     player = get_otherplayer(player)\n",
    "#     vec1 =  get_heatmap_vec_pre(results_2.sigma, matrix_2.X_unique, matrix_2.D_unique)\n",
    "#     vec2 =  get_heatmap_vec_post(results_2.sigma, matrix_2.X_unique, matrix_2.D_unique)\n",
    "#     plot_heatmap(vec1,vec2)\n",
    "#     player = get_otherplayer(player)\n",
    "#     plot_path_to_steady_state(matrix,results,50, 50)\n",
    "#     player = get_otherplayer(player)\n",
    "#     plot_path_to_steady_state(matrix_2,results_2,50, 50)\n",
    "#     player = get_otherplayer(player)\n",
    "#     histogram_stationary(results,matrix)\n",
    "#     player = get_otherplayer(player)\n",
    "#     histogram_stationary(results_2,matrix_2)\n",
    "#     histogram_stationary(results_2,matrix_2)\n",
    "#     sample_1 =vector_sampler(200,5,matrix,matrix_2,results,results_2,0,1)\n",
    "#     print('Benchmark')\n",
    "#     histogram_sampling(sample_1, 'Normal')\n",
    "#     sample_2 =vector_sampler(200,5,matrix,matrix_2,results,results_2,W_bar/4,1)\n",
    "#     print('Richer')\n",
    "#     histogram_sampling(sample_2,'Richer')\n",
    "#     sample_3 =vector_sampler(200,5,matrix,matrix_2,results,results_2,-W_bar/4,1)\n",
    "#     print('Poorer')\n",
    "#     histogram_sampling(sample_3,'Poorer')\n",
    "#     print('Benchmark')\n",
    "#     histogram_sampling_savings(sample_1, 'Normal')\n",
    "#     print('Richer')\n",
    "#     histogram_sampling_savings(sample_2, 'Richer')\n",
    "#     print('Poorer')\n",
    "#     histogram_sampling_savings(sample_3, 'Poorer')\n",
    "\n",
    "# end_time = datetime.now()\n",
    "# print('Duration: {}'.format(end_time - start_time))\n"
   ]
  },
  {
   "cell_type": "markdown",
   "metadata": {
    "id": "04ukeFUjZaMm"
   },
   "source": [
    "## Predicting the Unobservable Corruption"
   ]
  },
  {
   "cell_type": "code",
   "execution_count": null,
   "metadata": {
    "id": "NoWafTBSZsfr"
   },
   "outputs": [],
   "source": [
    "# Import the series of interest rates:\n",
    "\n",
    "# Import the change in GDP per capita: distribution parameter from the sampling.\n",
    "\n",
    "# Use detection change to predict the changes in non observable corruption.\n",
    "\n",
    "# Apply the policy change:\n",
    "\n",
    "## Test distinct scenarios to check for the most likely.\n",
    "\n",
    "\n"
   ]
  },
  {
   "cell_type": "code",
   "execution_count": 74,
   "metadata": {
    "id": "Wyx4vf8gZt7w"
   },
   "outputs": [],
   "source": [
    "# Generating the series of samplings\n",
    "#Plug the series\n",
    "GDP = np.ones(131)\n",
    "interests = np.ones(131)\n",
    "\n",
    "\n",
    "\n"
   ]
  },
  {
   "cell_type": "markdown",
   "metadata": {},
   "source": [
    "### Setting Regime 1"
   ]
  },
  {
   "cell_type": "code",
   "execution_count": 170,
   "metadata": {},
   "outputs": [],
   "source": [
    "R,r,P,p = 1,1,1,1"
   ]
  },
  {
   "cell_type": "code",
   "execution_count": 171,
   "metadata": {},
   "outputs": [
    {
     "name": "stdout",
     "output_type": "stream",
     "text": [
      "Success after 1 iterations(Receiv)\n",
      "Wall time: 31min 25s\n"
     ]
    }
   ],
   "source": [
    "%%time\n",
    "\n",
    "matrix = False\n",
    "player = 'payer'\n",
    "outer_opearator()"
   ]
  },
  {
   "cell_type": "code",
   "execution_count": 172,
   "metadata": {},
   "outputs": [],
   "source": [
    "pre_matrix , pre_matrix_2, pre_results, pre_results_2 = matrix,matrix_2,results,results_2"
   ]
  },
  {
   "cell_type": "code",
   "execution_count": 173,
   "metadata": {},
   "outputs": [],
   "source": [
    "sample_1 =vector_sampler(400,5,pre_matrix , pre_matrix_2, pre_results, pre_results_2, 0 ,1)\n"
   ]
  },
  {
   "cell_type": "code",
   "execution_count": 174,
   "metadata": {},
   "outputs": [
    {
     "data": {
      "image/png": "[encoded data removed]",
      "text/plain": [
       "<Figure size 720x432 with 2 Axes>"
      ]
     },
     "metadata": {
      "needs_background": "light"
     },
     "output_type": "display_data"
    }
   ],
   "source": [
    "histogram_sampling(sample_1, 'Normal')"
   ]
  },
  {
   "cell_type": "markdown",
   "metadata": {},
   "source": [
    "## Setting Regime 2"
   ]
  },
  {
   "cell_type": "code",
   "execution_count": 186,
   "metadata": {},
   "outputs": [
    {
     "name": "stdout",
     "output_type": "stream",
     "text": [
      "Converged. Started after 2 iterations\n",
      "Wall time: 47min 23s\n"
     ]
    }
   ],
   "source": [
    "%%time\n",
    "\n",
    "alpha = 0.1\n",
    "\n",
    "R,r,P,p = 0,0.5,0.6,0.8\n",
    "matrix = False\n",
    "player = 'payer'\n",
    "outer_opearator()\n",
    "\n"
   ]
  },
  {
   "cell_type": "code",
   "execution_count": 187,
   "metadata": {},
   "outputs": [
    {
     "data": {
      "image/png": "[encoded data removed]",
      "text/plain": [
       "<Figure size 720x432 with 2 Axes>"
      ]
     },
     "metadata": {
      "needs_background": "light"
     },
     "output_type": "display_data"
    }
   ],
   "source": [
    "Rsample_1 =vector_sampler(500,5,matrix,matrix_2,results,results_2, 0 ,1)\n",
    "\n",
    "histogram_sampling(Rsample_1, 'Normal')"
   ]
  },
  {
   "cell_type": "code",
   "execution_count": 188,
   "metadata": {},
   "outputs": [],
   "source": [
    "#Scenarios 1:\n",
    "# Equal bargaining power between players\n",
    "# Medium profitability\n",
    "# Constant number of contracts\n",
    "# Constant probs\n",
    "# Change"
   ]
  },
  {
   "cell_type": "code",
   "execution_count": 189,
   "metadata": {},
   "outputs": [],
   "source": [
    "Corruption , Detection = get_scenario_series(sample_1)"
   ]
  },
  {
   "cell_type": "code",
   "execution_count": 190,
   "metadata": {},
   "outputs": [
    {
     "data": {
      "image/png": "[encoded data removed]",
      "text/plain": [
       "<Figure size 648x216 with 1 Axes>"
      ]
     },
     "metadata": {
      "needs_background": "light"
     },
     "output_type": "display_data"
    },
    {
     "data": {
      "text/plain": [
       "<Figure size 432x288 with 0 Axes>"
      ]
     },
     "metadata": {},
     "output_type": "display_data"
    }
   ],
   "source": [
    "plot_scenario('From Regime 0 to Regime 1', Corruption, Detection)"
   ]
  },
  {
   "cell_type": "code",
   "execution_count": 191,
   "metadata": {},
   "outputs": [
    {
     "name": "stdout",
     "output_type": "stream",
     "text": [
      "Success after 1 iterations(Receiv)\n"
     ]
    },
    {
     "data": {
      "image/png": "[encoded data removed]",
      "text/plain": [
       "<Figure size 720x432 with 2 Axes>"
      ]
     },
     "metadata": {
      "needs_background": "light"
     },
     "output_type": "display_data"
    },
    {
     "data": {
      "image/png": "[encoded data removed]",
      "text/plain": [
       "<Figure size 648x216 with 1 Axes>"
      ]
     },
     "metadata": {
      "needs_background": "light"
     },
     "output_type": "display_data"
    },
    {
     "name": "stdout",
     "output_type": "stream",
     "text": [
      "Wall time: 50min 14s\n"
     ]
    },
    {
     "data": {
      "text/plain": [
       "<Figure size 432x288 with 0 Axes>"
      ]
     },
     "metadata": {},
     "output_type": "display_data"
    }
   ],
   "source": [
    "%%time\n",
    "\n",
    "alpha = 0.05\n",
    "\n",
    "R,r,P,p = 1,1,1,1\n",
    "matrix = False\n",
    "player = 'payer'\n",
    "outer_opearator()\n",
    "Rsample_1 =vector_sampler(500,5,matrix,matrix_2,results,results_2, 0 ,1)\n",
    "\n",
    "histogram_sampling(Rsample_1, 'Normal')\n",
    "\n",
    "Corruption , Detection = get_scenario_series(sample_1)\n",
    "\n",
    "plot_scenario('From Regime 0 to Regime 3', Corruption, Detection)\n",
    "\n"
   ]
  },
  {
   "cell_type": "code",
   "execution_count": null,
   "metadata": {},
   "outputs": [],
   "source": [
    "%%time\n",
    "\n",
    "alpha = 0.25\n",
    "beta = 0.7\n",
    "\n",
    "R,r,P,p = 0, 0.5, 0.5, 0.75\n",
    "matrix = False\n",
    "player = 'payer'\n",
    "outer_opearator()\n",
    "Rsample_1 =vector_sampler(500,5,matrix,matrix_2,results,results_2, 0 ,1)\n",
    "\n",
    "histogram_sampling(Rsample_1, 'Normal')\n",
    "\n",
    "Corruption , Detection = get_scenario_series(sample_1)\n",
    "\n",
    "plot_scenario('From Regime 0 to Regime 3', Corruption, Detection)\n",
    "\n"
   ]
  },
  {
   "cell_type": "code",
   "execution_count": null,
   "metadata": {},
   "outputs": [],
   "source": []
  },
  {
   "cell_type": "code",
   "execution_count": null,
   "metadata": {},
   "outputs": [],
   "source": []
  },
  {
   "cell_type": "code",
   "execution_count": null,
   "metadata": {},
   "outputs": [],
   "source": []
  },
  {
   "cell_type": "code",
   "execution_count": null,
   "metadata": {},
   "outputs": [],
   "source": [
    "!zip -r /content/Plottings.zip /content/Plottings"
   ]
  },
  {
   "cell_type": "code",
   "execution_count": null,
   "metadata": {},
   "outputs": [],
   "source": []
  }
 ],
 "metadata": {
  "colab": {
   "name": "Corruption_game_leniency_and_non_trial_resolutions-checkpoint.ipynb",
   "provenance": []
  },
  "kernelspec": {
   "display_name": "Python 3",
   "language": "python",
   "name": "python3"
  },
  "language_info": {
   "codemirror_mode": {
    "name": "ipython",
    "version": 3
   },
   "file_extension": ".py",
   "mimetype": "text/x-python",
   "name": "python",
   "nbconvert_exporter": "python",
   "pygments_lexer": "ipython3",
   "version": "3.7.3"
  }
 },
 "nbformat": 4,
 "nbformat_minor": 4
}
